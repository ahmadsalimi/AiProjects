{
  "nbformat": 4,
  "nbformat_minor": 0,
  "metadata": {
    "colab": {
      "name": "MNISTClassification.ipynb",
      "provenance": [],
      "authorship_tag": "ABX9TyOTDMRHAJA7H/y43oonoNY9"
    },
    "kernelspec": {
      "name": "python3",
      "display_name": "Python 3"
    },
    "accelerator": "TPU"
  },
  "cells": [
    {
      "cell_type": "code",
      "metadata": {
        "id": "EtiOxuOePUwY",
        "colab_type": "code",
        "colab": {}
      },
      "source": [
        "import keras\n",
        "from keras.datasets import mnist\n",
        "import matplotlib\n",
        "import matplotlib.pyplot as plt\n",
        "from keras.datasets import mnist\n",
        "from keras.models import Sequential, load_model\n",
        "from keras.layers.core import Dense, Dropout, Activation\n",
        "import numpy as np\n",
        "from keras.utils import to_categorical\n",
        "from sklearn.preprocessing import MinMaxScaler"
      ],
      "execution_count": 2,
      "outputs": []
    },
    {
      "cell_type": "code",
      "metadata": {
        "id": "48o9F5vNP9qH",
        "colab_type": "code",
        "colab": {
          "base_uri": "https://localhost:8080/",
          "height": 51
        },
        "outputId": "42687edf-06bb-4992-ce86-37b68841679c"
      },
      "source": [
        "(X_train, Y_train), (X_test, Y_test) = mnist.load_data()"
      ],
      "execution_count": 3,
      "outputs": [
        {
          "output_type": "stream",
          "text": [
            "Downloading data from https://s3.amazonaws.com/img-datasets/mnist.npz\n",
            "11493376/11490434 [==============================] - 0s 0us/step\n"
          ],
          "name": "stdout"
        }
      ]
    },
    {
      "cell_type": "code",
      "metadata": {
        "id": "-WHiNtgUQKeA",
        "colab_type": "code",
        "colab": {
          "base_uri": "https://localhost:8080/",
          "height": 34
        },
        "outputId": "82785e2c-accb-434a-a399-807d846e8685"
      },
      "source": [
        "X_train.shape"
      ],
      "execution_count": 4,
      "outputs": [
        {
          "output_type": "execute_result",
          "data": {
            "text/plain": [
              "(60000, 28, 28)"
            ]
          },
          "metadata": {
            "tags": []
          },
          "execution_count": 4
        }
      ]
    },
    {
      "cell_type": "code",
      "metadata": {
        "id": "s7ZgT8tzQRqA",
        "colab_type": "code",
        "colab": {
          "base_uri": "https://localhost:8080/",
          "height": 34
        },
        "outputId": "394f0e35-5ec6-4a41-d588-886f94d1628e"
      },
      "source": [
        "X_test.shape"
      ],
      "execution_count": 5,
      "outputs": [
        {
          "output_type": "execute_result",
          "data": {
            "text/plain": [
              "(10000, 28, 28)"
            ]
          },
          "metadata": {
            "tags": []
          },
          "execution_count": 5
        }
      ]
    },
    {
      "cell_type": "code",
      "metadata": {
        "id": "_5wKhSrzQocP",
        "colab_type": "code",
        "colab": {}
      },
      "source": [
        "X_train = X_train.reshape(60000, 28 * 28).astype('float32') / 255\n",
        "X_test = X_test.reshape(10000, 28 * 28).astype('float32') / 255"
      ],
      "execution_count": 6,
      "outputs": []
    },
    {
      "cell_type": "code",
      "metadata": {
        "id": "TJzERvleRng4",
        "colab_type": "code",
        "colab": {}
      },
      "source": [
        "Y_train = to_categorical(Y_train, 10)\n",
        "Y_test = to_categorical(Y_test, 10)"
      ],
      "execution_count": 7,
      "outputs": []
    },
    {
      "cell_type": "code",
      "metadata": {
        "id": "s0Po_0fhSWXN",
        "colab_type": "code",
        "colab": {}
      },
      "source": [
        "model = Sequential()\n",
        "model.add(Dense(512, input_dim= 28 * 28, activation='relu'))\n",
        "model.add(Dropout(0.2))\n",
        "model.add(Dense(512, activation='relu'))\n",
        "model.add(Dropout(0.2))\n",
        "model.add(Dense(10, activation='softmax'))"
      ],
      "execution_count": 8,
      "outputs": []
    },
    {
      "cell_type": "code",
      "metadata": {
        "id": "aSKqjaQ8SjPY",
        "colab_type": "code",
        "colab": {}
      },
      "source": [
        "model.compile(loss='categorical_crossentropy', metrics=['accuracy'], optimizer='adam')"
      ],
      "execution_count": 9,
      "outputs": []
    },
    {
      "cell_type": "code",
      "metadata": {
        "id": "M7QQgaTCSnXl",
        "colab_type": "code",
        "colab": {
          "base_uri": "https://localhost:8080/",
          "height": 329
        },
        "outputId": "8556083e-6c4f-49e1-8afc-0b3b2420d87d"
      },
      "source": [
        "model.summary()"
      ],
      "execution_count": 10,
      "outputs": [
        {
          "output_type": "stream",
          "text": [
            "Model: \"sequential_1\"\n",
            "_________________________________________________________________\n",
            "Layer (type)                 Output Shape              Param #   \n",
            "=================================================================\n",
            "dense_1 (Dense)              (None, 512)               401920    \n",
            "_________________________________________________________________\n",
            "dropout_1 (Dropout)          (None, 512)               0         \n",
            "_________________________________________________________________\n",
            "dense_2 (Dense)              (None, 512)               262656    \n",
            "_________________________________________________________________\n",
            "dropout_2 (Dropout)          (None, 512)               0         \n",
            "_________________________________________________________________\n",
            "dense_3 (Dense)              (None, 10)                5130      \n",
            "=================================================================\n",
            "Total params: 669,706\n",
            "Trainable params: 669,706\n",
            "Non-trainable params: 0\n",
            "_________________________________________________________________\n"
          ],
          "name": "stdout"
        }
      ]
    },
    {
      "cell_type": "code",
      "metadata": {
        "id": "-ZTn-XvNSsvz",
        "colab_type": "code",
        "colab": {
          "base_uri": "https://localhost:8080/",
          "height": 745
        },
        "outputId": "9253e6b1-56a3-4fda-c10f-244f6de79f67"
      },
      "source": [
        "model.fit(X_train, Y_train, batch_size=128, epochs=20, verbose=2, validation_split = 0.1)"
      ],
      "execution_count": 11,
      "outputs": [
        {
          "output_type": "stream",
          "text": [
            "Train on 54000 samples, validate on 6000 samples\n",
            "Epoch 1/20\n",
            " - 6s - loss: 0.2670 - accuracy: 0.9195 - val_loss: 0.0981 - val_accuracy: 0.9712\n",
            "Epoch 2/20\n",
            " - 6s - loss: 0.1045 - accuracy: 0.9677 - val_loss: 0.0749 - val_accuracy: 0.9772\n",
            "Epoch 3/20\n",
            " - 6s - loss: 0.0754 - accuracy: 0.9766 - val_loss: 0.0655 - val_accuracy: 0.9800\n",
            "Epoch 4/20\n",
            " - 6s - loss: 0.0566 - accuracy: 0.9822 - val_loss: 0.0677 - val_accuracy: 0.9800\n",
            "Epoch 5/20\n",
            " - 6s - loss: 0.0463 - accuracy: 0.9844 - val_loss: 0.0667 - val_accuracy: 0.9797\n",
            "Epoch 6/20\n",
            " - 6s - loss: 0.0381 - accuracy: 0.9881 - val_loss: 0.0647 - val_accuracy: 0.9822\n",
            "Epoch 7/20\n",
            " - 6s - loss: 0.0362 - accuracy: 0.9880 - val_loss: 0.0688 - val_accuracy: 0.9810\n",
            "Epoch 8/20\n",
            " - 6s - loss: 0.0331 - accuracy: 0.9886 - val_loss: 0.0609 - val_accuracy: 0.9840\n",
            "Epoch 9/20\n",
            " - 6s - loss: 0.0269 - accuracy: 0.9907 - val_loss: 0.0776 - val_accuracy: 0.9795\n",
            "Epoch 10/20\n",
            " - 6s - loss: 0.0259 - accuracy: 0.9911 - val_loss: 0.0761 - val_accuracy: 0.9812\n",
            "Epoch 11/20\n",
            " - 6s - loss: 0.0227 - accuracy: 0.9924 - val_loss: 0.0802 - val_accuracy: 0.9788\n",
            "Epoch 12/20\n",
            " - 6s - loss: 0.0222 - accuracy: 0.9925 - val_loss: 0.0691 - val_accuracy: 0.9828\n",
            "Epoch 13/20\n",
            " - 6s - loss: 0.0195 - accuracy: 0.9933 - val_loss: 0.0769 - val_accuracy: 0.9815\n",
            "Epoch 14/20\n",
            " - 6s - loss: 0.0178 - accuracy: 0.9939 - val_loss: 0.0764 - val_accuracy: 0.9828\n",
            "Epoch 15/20\n",
            " - 6s - loss: 0.0169 - accuracy: 0.9951 - val_loss: 0.0709 - val_accuracy: 0.9843\n",
            "Epoch 16/20\n",
            " - 6s - loss: 0.0183 - accuracy: 0.9941 - val_loss: 0.0833 - val_accuracy: 0.9822\n",
            "Epoch 17/20\n",
            " - 6s - loss: 0.0192 - accuracy: 0.9939 - val_loss: 0.0677 - val_accuracy: 0.9860\n",
            "Epoch 18/20\n",
            " - 6s - loss: 0.0159 - accuracy: 0.9947 - val_loss: 0.0819 - val_accuracy: 0.9820\n",
            "Epoch 19/20\n",
            " - 6s - loss: 0.0158 - accuracy: 0.9946 - val_loss: 0.0793 - val_accuracy: 0.9853\n",
            "Epoch 20/20\n",
            " - 6s - loss: 0.0152 - accuracy: 0.9953 - val_loss: 0.0774 - val_accuracy: 0.9847\n"
          ],
          "name": "stdout"
        },
        {
          "output_type": "execute_result",
          "data": {
            "text/plain": [
              "<keras.callbacks.callbacks.History at 0x7efc42c79da0>"
            ]
          },
          "metadata": {
            "tags": []
          },
          "execution_count": 11
        }
      ]
    },
    {
      "cell_type": "code",
      "metadata": {
        "id": "iPrafKaaTVEX",
        "colab_type": "code",
        "colab": {}
      },
      "source": [
        "loss, accuracy = model.evaluate(X_test, Y_test, verbose=2)"
      ],
      "execution_count": 13,
      "outputs": []
    },
    {
      "cell_type": "code",
      "metadata": {
        "id": "RB0VQPbYV-mt",
        "colab_type": "code",
        "colab": {
          "base_uri": "https://localhost:8080/",
          "height": 34
        },
        "outputId": "e4708749-183c-4991-852c-de6b0cf982cf"
      },
      "source": [
        "loss"
      ],
      "execution_count": 14,
      "outputs": [
        {
          "output_type": "execute_result",
          "data": {
            "text/plain": [
              "0.0776346832904763"
            ]
          },
          "metadata": {
            "tags": []
          },
          "execution_count": 14
        }
      ]
    },
    {
      "cell_type": "code",
      "metadata": {
        "id": "4Tot8RLDWK-a",
        "colab_type": "code",
        "colab": {
          "base_uri": "https://localhost:8080/",
          "height": 34
        },
        "outputId": "70a207a7-701b-49cb-ca60-2e7077f163d2"
      },
      "source": [
        "accuracy"
      ],
      "execution_count": 15,
      "outputs": [
        {
          "output_type": "execute_result",
          "data": {
            "text/plain": [
              "0.9832000136375427"
            ]
          },
          "metadata": {
            "tags": []
          },
          "execution_count": 15
        }
      ]
    },
    {
      "cell_type": "code",
      "metadata": {
        "id": "aECwjKy1WMBY",
        "colab_type": "code",
        "colab": {}
      },
      "source": [
        ""
      ],
      "execution_count": null,
      "outputs": []
    }
  ]
}