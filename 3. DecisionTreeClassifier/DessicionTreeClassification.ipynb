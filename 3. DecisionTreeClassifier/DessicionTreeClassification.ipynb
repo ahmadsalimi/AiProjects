{
 "cells": [
  {
   "cell_type": "markdown",
   "metadata": {
    "colab": {
     "base_uri": "https://localhost:8080/",
     "height": 34
    },
    "colab_type": "code",
    "id": "Ws6FyEkdYSW3",
    "outputId": "f6d58982-a397-4078-8159-318e569d7371"
   },
   "source": [
    "<div style=\"direction:rtl;line-height:500%;\">\n",
    "\t<font face=\"B Zar\", size=5px>\n",
    "        <h2>هوش مصنوعی، تمرین دوم پیاده‌سازی</h2>\n",
    "        احمد سلیمی - ۹۷۱۰۶۰۱۳\n",
    "    </font>\n",
    "</div>"
   ]
  },
  {
   "cell_type": "markdown",
   "metadata": {},
   "source": [
    "<div style=\"direction:rtl;line-height:300%;\">\n",
    "\t<font face=\"B Zar\", size=5px>\n",
    "        ابتدا کتابخانه‌های مورد نیاز را <code>import</code> می‌کنیم.\n",
    "    </font>\n",
    "</div>"
   ]
  },
  {
   "cell_type": "code",
   "execution_count": 1,
   "metadata": {
    "colab": {},
    "colab_type": "code",
    "id": "Nz5yADRnaVVg"
   },
   "outputs": [],
   "source": [
    "import numpy as np\n",
    "import pandas as pd\n",
    "import json"
   ]
  },
  {
   "cell_type": "markdown",
   "metadata": {},
   "source": [
    "<div style=\"direction:rtl;line-height:300%;text-align:justify;\">\n",
    "\t<font face=\"B Zar\", size=5px>\n",
    "        <h4>کلاس<code>JsonEncoder</code></h4>\n",
    "        <br>\n",
    "        این کلاس برای تبدیل آبجکت‌های موجود به فرمت Json\n",
    "        می‌باشد.\n",
    "    </font>\n",
    "</div>"
   ]
  },
  {
   "cell_type": "code",
   "execution_count": 2,
   "metadata": {
    "colab": {},
    "colab_type": "code",
    "id": "G4DlsFZZkwEg"
   },
   "outputs": [],
   "source": [
    "class JsonEncoder(json.JSONEncoder):\n",
    "    def default(self, obj):\n",
    "        if isinstance(obj, TerminalNode):\n",
    "            return obj.outcome\n",
    "        if isinstance(obj, DecisionNode):\n",
    "            return {\n",
    "                \"Feature\": obj.feature, \n",
    "                \"Information gain\": obj.information_gain,\n",
    "                \"Entropy\": obj.entropy,\n",
    "                \"Children\": {repr(condition): obj.children[condition] for condition in obj.children}\n",
    "                }\n",
    "        if isinstance(obj, Condition):\n",
    "            return obj.to_json()\n",
    "        if isinstance(obj, np.integer):\n",
    "            return int(obj)\n",
    "        if isinstance(obj, np.floating):\n",
    "            return float(obj)\n",
    "        if isinstance(obj, np.ndarray):\n",
    "            return obj.tolist()\n",
    "        return json.JSONEncoder.default(self, obj)"
   ]
  },
  {
   "cell_type": "markdown",
   "metadata": {},
   "source": [
    "<div style=\"direction:rtl;line-height:300%;text-align:justify;\">\n",
    "\t<font face=\"B Zar\", size=5px>\n",
    "        <h4>کلاس<code>Condition</code></h4>\n",
    "        <br>\n",
    "        یک کلاس abstract\n",
    "        است که برای نگهداری و اعمال یک شرط روی feature\n",
    "        ها می‌باشد.\n",
    "    </font>\n",
    "</div>"
   ]
  },
  {
   "cell_type": "code",
   "execution_count": 3,
   "metadata": {
    "colab": {},
    "colab_type": "code",
    "id": "kkkCyjYGLlXG"
   },
   "outputs": [],
   "source": [
    "class Condition:\n",
    "\n",
    "    def check(self, value):\n",
    "        raise NotImplementedError()\n",
    "    \n",
    "    def to_json(self):\n",
    "        return repr(self)"
   ]
  },
  {
   "cell_type": "markdown",
   "metadata": {},
   "source": [
    "<div style=\"direction:rtl;line-height:300%;text-align:justify;\">\n",
    "\t<font face=\"B Zar\", size=5px>\n",
    "        <h4>کلاس<code>ExactCondition</code></h4>\n",
    "        <br>\n",
    "        این کلاس که از کلاس\n",
    "        <code>Condition</code>\n",
    "        ارث‌بری می‌کند، برای نگهداری شرط روی feature\n",
    "        های گسسته می‌باشد.\n",
    "    </font>\n",
    "</div>"
   ]
  },
  {
   "cell_type": "code",
   "execution_count": 4,
   "metadata": {
    "colab": {},
    "colab_type": "code",
    "id": "__-W4kpQLzKb"
   },
   "outputs": [],
   "source": [
    "class ExactCondition(Condition):\n",
    "\n",
    "    def __init__(self, value):\n",
    "        self.value = value\n",
    "    \n",
    "    def check(self, value):\n",
    "        return self.value == value\n",
    "    \n",
    "    def to_json(self):\n",
    "        return self.value\n",
    "\n",
    "    def __repr__(self):\n",
    "        return str(self.value)\n",
    "    \n",
    "    def __hash__(self):\n",
    "        return hash(repr(self))\n",
    "\n",
    "    def __eq__(self, other):\n",
    "        return (\n",
    "            self.__class__ == other.__class__ and\n",
    "            self.value == other.value\n",
    "        )"
   ]
  },
  {
   "cell_type": "markdown",
   "metadata": {},
   "source": [
    "<div style=\"direction:rtl;line-height:300%;text-align:justify;\">\n",
    "\t<font face=\"B Zar\", size=5px>\n",
    "        <h4>کلاس<code>RangeCondition</code></h4>\n",
    "        <br>\n",
    "        این کلاس که از کلاس\n",
    "        <code>Condition</code>\n",
    "        ارث‌بری می‌کند، برای نگهداری شرط روی feature\n",
    "        های پیوسته، و بصورت بازه‌ای می‌باشد.\n",
    "    </font>\n",
    "</div>"
   ]
  },
  {
   "cell_type": "code",
   "execution_count": 5,
   "metadata": {
    "colab": {},
    "colab_type": "code",
    "id": "vDDouKOiMBpe"
   },
   "outputs": [],
   "source": [
    "class RangeCondition(Condition):\n",
    "\n",
    "    def __init__(self, lower_bound=-float('inf'), upper_bound=float('inf')):\n",
    "        self.lower_bound = lower_bound\n",
    "        self.upper_bound = upper_bound\n",
    "        self.check = np.vectorize(self.single_check)\n",
    "    \n",
    "    def single_check(self, x):\n",
    "        return x <= self.upper_bound and x >= self.lower_bound\n",
    "    \n",
    "    def __repr__(self):\n",
    "        return f'{self.lower_bound}-{self.upper_bound}'\n",
    "    \n",
    "    def __hash__(self):\n",
    "        return hash(repr(self))\n",
    "\n",
    "    def __eq__(self, other):\n",
    "        return (\n",
    "            self.__class__ == other.__class__ and\n",
    "            self.lower_bound == other.lower_bound and\n",
    "            self.upper_bound == other.upper_bound\n",
    "        )"
   ]
  },
  {
   "cell_type": "markdown",
   "metadata": {},
   "source": [
    "<div style=\"direction:rtl;line-height:300%;text-align:justify;\">\n",
    "\t<font face=\"B Zar\", size=5px>\n",
    "        <h4>کلاس<code>Node</code></h4>\n",
    "        <br>\n",
    "        یک کلاس abstract\n",
    "        برای بازنمایی یک راس از درخت تصمیم است.\n",
    "    </font>\n",
    "</div>"
   ]
  },
  {
   "cell_type": "code",
   "execution_count": 6,
   "metadata": {
    "colab": {},
    "colab_type": "code",
    "id": "c6EU3AsWtwm1"
   },
   "outputs": [],
   "source": [
    "class Node:\n",
    "\n",
    "    def search(self, row):\n",
    "        raise NotImplementedError()\n",
    "    \n",
    "    def __repr__(self):\n",
    "        return json.dumps(self, cls=JsonEncoder, indent=4)"
   ]
  },
  {
   "cell_type": "markdown",
   "metadata": {},
   "source": [
    "<div style=\"direction:rtl;line-height:300%;text-align:justify;\">\n",
    "\t<font face=\"B Zar\", size=5px>\n",
    "        <h4>کلاس<code>DecisionNode</code></h4>\n",
    "        <br>\n",
    "        این کلاس که از کلاس\n",
    "        <code>Node</code>\n",
    "        ارث‌بری می‌کند، برای بازنمایی یک راس تصمیم از درخت تصمیم است، که حاوی feature،\n",
    "        information_gain،\n",
    "        entropy\n",
    "        و لیست فرزندان است.\n",
    "    </font>\n",
    "</div>"
   ]
  },
  {
   "cell_type": "code",
   "execution_count": 7,
   "metadata": {
    "cellView": "code",
    "colab": {},
    "colab_type": "code",
    "id": "w1V0TzSziG_b"
   },
   "outputs": [],
   "source": [
    "class DecisionNode(Node):\n",
    "\n",
    "    def __init__(self, feature, information_gain, entropy):\n",
    "        self.feature = feature\n",
    "        self.children = {}\n",
    "        self.information_gain = information_gain\n",
    "        self.entropy = entropy\n",
    "    \n",
    "    def search(self, row):\n",
    "        for condition in self.children:\n",
    "            if condition.check(row[self.feature]):\n",
    "                return self.children[condition].search(row)\n",
    "        raise Exception(f'feature {self.feature} with value {row[self.feature]} could not be recognized.')"
   ]
  },
  {
   "cell_type": "markdown",
   "metadata": {},
   "source": [
    "<div style=\"direction:rtl;line-height:300%;text-align:justify;\">\n",
    "\t<font face=\"B Zar\", size=5px>\n",
    "        <h4>کلاس<code>TerminalNode</code></h4>\n",
    "        <br>\n",
    "        این کلاس که از کلاس\n",
    "        <code>Node</code>\n",
    "        ارث‌بری می‌کند، برای بازنمایی یک راس نهایی از درخت تصمیم است، که حاوی outcome\n",
    "        است.\n",
    "    </font>\n",
    "</div>"
   ]
  },
  {
   "cell_type": "code",
   "execution_count": 8,
   "metadata": {
    "colab": {},
    "colab_type": "code",
    "id": "rWNRbbjllBsG"
   },
   "outputs": [],
   "source": [
    "class TerminalNode(Node):\n",
    "\n",
    "    def __init__(self, outcome):\n",
    "        self.outcome = outcome\n",
    "    \n",
    "    def search(self, row):\n",
    "        return self.outcome"
   ]
  },
  {
   "cell_type": "markdown",
   "metadata": {},
   "source": [
    "<div style=\"direction:rtl;line-height:300%;text-align:justify;\">\n",
    "\t<font face=\"B Zar\", size=5px>\n",
    "        <h4>کلاس<code>ConditionContainer</code></h4>\n",
    "        <br>\n",
    "        این کلاس در بر دارنده‌ی اطلاعات مربوط به شرط‌ها و split\n",
    "        های یک feature\n",
    "        است.\n",
    "    </font>\n",
    "</div>"
   ]
  },
  {
   "cell_type": "code",
   "execution_count": 9,
   "metadata": {
    "colab": {},
    "colab_type": "code",
    "id": "IzSPHnNqG4fR"
   },
   "outputs": [],
   "source": [
    "class ConditionContainer:\n",
    "\n",
    "    def __init__(self, feature_name, conditions, information_gain, entropy):\n",
    "        self.feature_name = feature_name\n",
    "        self.conditions = conditions\n",
    "        self.information_gain = information_gain\n",
    "        self.entropy = entropy\n",
    "    \n",
    "    def __lt__(self, other):\n",
    "        return self.information_gain < other.information_gain"
   ]
  },
  {
   "cell_type": "markdown",
   "metadata": {},
   "source": [
    "<div style=\"direction:rtl;line-height:300%;text-align:justify;\">\n",
    "\t<font face=\"B Zar\", size=5px>\n",
    "        <h4>کلاس<code>FeatureHandler</code></h4>\n",
    "        <br>\n",
    "        یک کلاس abstract\n",
    "        که وظیفه‌اش مدیریت یک feature\n",
    "        و بررسی اهمیت آن feature\n",
    "        در یک مرحله از یادگیری می‌باشد.\n",
    "    </font>\n",
    "</div>"
   ]
  },
  {
   "cell_type": "code",
   "execution_count": 10,
   "metadata": {
    "colab": {},
    "colab_type": "code",
    "id": "bziq2III29cQ"
   },
   "outputs": [],
   "source": [
    "class FeatureHandler:\n",
    "\n",
    "    def __init__(self, name):\n",
    "        self.name = name\n",
    "    \n",
    "    def prepare_conditions(self, X, y):\n",
    "        raise NotImplementedError()\n",
    "    \n",
    "    def importance(self, conditions, X, y):\n",
    "        entropy = self.entropy(y.sum() / len(y))\n",
    "        return ConditionContainer(\n",
    "            self.name,\n",
    "            conditions, \n",
    "            entropy - self.remainder(conditions, X, y),\n",
    "            entropy\n",
    "        )\n",
    "\n",
    "    def remainder(self, conditions, X, y):\n",
    "        result = 0\n",
    "        for condition in conditions:\n",
    "            filtered_y = y[condition.check(X[self.name])]\n",
    "            p_k = filtered_y.sum()\n",
    "            if p_k == 0:\n",
    "                continue\n",
    "            result += self.entropy(p_k / len(filtered_y)) * len(filtered_y) / len(y)\n",
    "        \n",
    "        return result\n",
    "\n",
    "    def entropy(self, prob):\n",
    "        if prob == 0 or prob == 1:\n",
    "            return 0\n",
    "        return -(prob * np.log2(prob) + (1 - prob) * np.log2(1 - prob))"
   ]
  },
  {
   "cell_type": "markdown",
   "metadata": {},
   "source": [
    "<div style=\"direction:rtl;line-height:300%;text-align:justify;\">\n",
    "\t<font face=\"B Zar\", size=5px>\n",
    "        <h4>کلاس<code>ExactFeatureHandler</code></h4>\n",
    "        <br>\n",
    "        این کلاس که از کلاس\n",
    "        <code>FeatureHandler</code>\n",
    "        ارث‌بری می‌کند، برای مدیریت feature\n",
    "        های گسسته استفاده می‌شود.\n",
    "    </font>\n",
    "</div>"
   ]
  },
  {
   "cell_type": "code",
   "execution_count": 11,
   "metadata": {
    "colab": {},
    "colab_type": "code",
    "id": "U1fBx9NHEBfN"
   },
   "outputs": [],
   "source": [
    "class ExactFeatureHandler(FeatureHandler):\n",
    "\n",
    "    def __init__(self, name, values):\n",
    "        super().__init__(name)\n",
    "        self.conditions = [ExactCondition(value) for value in values.unique()]\n",
    "    \n",
    "    def prepare_conditions(self, X, y):\n",
    "        return self.importance(self.conditions, X, y)"
   ]
  },
  {
   "cell_type": "markdown",
   "metadata": {},
   "source": [
    "<div style=\"direction:rtl;line-height:300%;text-align:justify;\">\n",
    "\t<font face=\"B Zar\", size=5px>\n",
    "        <h4>کلاس<code>RangeFeatureHandler</code></h4>\n",
    "        <br>\n",
    "        این کلاس که از کلاس\n",
    "        <code>FeatureHandler</code>\n",
    "        ارث‌بری می‌کند، برای مدیریت feature\n",
    "        های پیوسته استفاده می‌شود.\n",
    "        این کلاس، با توجه $k$\n",
    "        مقدار ممکن برای یک فیچر، $k - 1$\n",
    "        نقطه‌ی میانی آن مقادیر را انتخاب کرده، و به ازای هر کدام از آن‌ها، بازه‌ای برای مقادیر کوچکتر، و بازه‌ای برای مقادیر بزرگتر از آن مقدار می‌سازد.\n",
    "        در نهایت، با توجه به داده‌های ورودی، اهمیت هر یک از این $k - 1$\n",
    "        بازه را سنجیده و مهم‌ترین آن‌ها را در قالب یک ConditionContainer\n",
    "        بر می‌گرداند.\n",
    "    </font>\n",
    "</div>"
   ]
  },
  {
   "cell_type": "code",
   "execution_count": 12,
   "metadata": {
    "colab": {},
    "colab_type": "code",
    "id": "XZa6TZcYIZ5-"
   },
   "outputs": [],
   "source": [
    "class RangeFeatureHandler(FeatureHandler):\n",
    "\n",
    "    def __init__(self, name, values):\n",
    "        super().__init__(name)\n",
    "        self.create_condition_set(sorted(values.unique()))\n",
    "    \n",
    "    def create_condition_set(self, sorted_points):\n",
    "        split_points = [(sorted_points[i] + sorted_points[i + 1]) / 2 for i in range(len(sorted_points) - 1)]\n",
    "        self.condition_set = [self.split(point) for point in split_points]\n",
    "    \n",
    "    def split(self, point):\n",
    "        return [RangeCondition(upper_bound=point), RangeCondition(lower_bound=point)]\n",
    "    \n",
    "    def prepare_conditions(self, X, y):\n",
    "        return max([self.importance(conditions, X, y) for conditions in self.condition_set])"
   ]
  },
  {
   "cell_type": "markdown",
   "metadata": {},
   "source": [
    "<div style=\"direction:rtl;line-height:300%;text-align:justify;\">\n",
    "\t<font face=\"B Zar\", size=5px>\n",
    "        <h4>کلاس<code>DecisionTreeBinaryClassifier</code></h4>\n",
    "        <br>\n",
    "        این کلاس، در بر گیرنده‌ی الگوریتم یادگیری و ساخت درخت تصمیم برای Binary Classification\n",
    "        است.\n",
    "        <br>\n",
    "        <b>پارامترها</b>\n",
    "        <ol>\n",
    "            <li>حداکثر عمق درخت</li>\n",
    "        </ol>\n",
    "        <b>مراحل</b>\n",
    "        <ol>\n",
    "            <li>\n",
    "                <b>\n",
    "                    ساخت FeatureHandler\n",
    "                    ها با توجه به feature\n",
    "                    ها:\n",
    "                </b>\n",
    "                نکته‌ی قابل توجه آن است که در ابتدا باید یک دیکشنری که نوع فیچرها از نظر پیوسته یا گسسته بودن را تعیین می‌کند، بعنوان ورودی داده‌شود.\n",
    "                حال با توجه به نوع فیچر، FeatureHandler\n",
    "                مربوط به هر فیچر ساخته می‌شود.\n",
    "            </li>\n",
    "            <li>\n",
    "                <b>یادگیری درخت تصمیم:</b>\n",
    "                در این مرحله، درخت تصمیم در تابع\n",
    "                <br>\n",
    "                <code>create_tree(X, y, current_features, parent_y, height)</code>\n",
    "                <br>\n",
    "                بصورت بازگشتی ساخته می‌شود.\n",
    "            </li>\n",
    "        </ol>\n",
    "    </font>\n",
    "</div>"
   ]
  },
  {
   "cell_type": "code",
   "execution_count": 13,
   "metadata": {
    "colab": {},
    "colab_type": "code",
    "id": "SrE8Fw_zdhQ4"
   },
   "outputs": [],
   "source": [
    "discrete = \"discrete\"\n",
    "continuous = \"continuous\"\n",
    "\n",
    "class DecisionTreeBinaryClassifier:\n",
    "\n",
    "    def __init__(self, max_depth=5):\n",
    "        self.feature_handlers = {}\n",
    "        self.tree = None\n",
    "        self.height = 0\n",
    "        self.max_depth = max_depth\n",
    "    \n",
    "    def generate_feature_handlers(self, X:pd.DataFrame, feature_types:dict):\n",
    "        for feature in X.columns:\n",
    "            if feature_types[feature] == continuous:\n",
    "                self.feature_handlers[feature] = RangeFeatureHandler(feature, X[feature])\n",
    "            else:\n",
    "                self.feature_handlers[feature] = ExactFeatureHandler(feature, X[feature])\n",
    "\n",
    "    def plurality_value(self, y):\n",
    "        return 1 if y.sum() / len(y) >= 0.5 else 0\n",
    "    \n",
    "    def create_tree(self, X:pd.DataFrame, y:pd.Series, current_features:pd.Series, parent_y:pd.Series=None, height=0):\n",
    "        self.height = max(self.height, height)\n",
    "        if X.empty: # no remaining sample row\n",
    "            return TerminalNode(self.plurality_value(parent_y))\n",
    "        if y.nunique() == 1: # all rows has a same outcome\n",
    "            return TerminalNode(y.iloc[0])\n",
    "        if not any(current_features) or self.height > self.max_depth: # all features are checked or max height reached\n",
    "            return TerminalNode(self.plurality_value(y))\n",
    "        \n",
    "        # choose best feature and split:\n",
    "        condition_container = max(map(lambda feature: self.feature_handlers[feature].prepare_conditions(X, y), current_features))\n",
    "        \n",
    "        tree = DecisionNode(\n",
    "            condition_container.feature_name, \n",
    "            condition_container.information_gain, \n",
    "            condition_container.entropy)\n",
    "        \n",
    "        new_features = current_features.drop(tree.feature)\n",
    "\n",
    "        for condition in condition_container.conditions:\n",
    "            filter = condition.check(X[tree.feature])\n",
    "            subtree = self.create_tree(X[filter], y[filter], new_features, y, height+1)\n",
    "            subtree.condition = condition\n",
    "            tree.children[condition] = subtree\n",
    "\n",
    "        return tree\n",
    "    \n",
    "    def fit(self, X:pd.DataFrame, y:pd.Series, feature_types:dict):\n",
    "        self.generate_feature_handlers(X, feature_types)\n",
    "        self.tree = self.create_tree(X, y, X.columns)\n",
    "        return self.tree\n",
    "    \n",
    "    def predict(self, X_test:pd.DataFrame):\n",
    "        return X_test.apply(lambda row: self.tree.search(row), axis=1)"
   ]
  },
  {
   "cell_type": "markdown",
   "metadata": {},
   "source": [
    "<div style=\"direction:rtl;line-height:300%;text-align:justify;\">\n",
    "\t<font face=\"B Zar\", size=5px>\n",
    "        <h4>تابع<code>calculate_accuracy</code></h4>\n",
    "        <br>\n",
    "        این تابع، مقادیر تخمین زده شده را با مقادیر واقعی مقایسه کرده، و میزان صحت تخمین را برمی‌گرداند.\n",
    "    </font>\n",
    "</div>"
   ]
  },
  {
   "cell_type": "code",
   "execution_count": 14,
   "metadata": {
    "colab": {},
    "colab_type": "code",
    "id": "DhsQ7SaODXU4"
   },
   "outputs": [],
   "source": [
    "def calculate_accuracy(y_pred, y_test):\n",
    "    return (y_pred == y_test).sum() / len(y_pred)"
   ]
  },
  {
   "cell_type": "markdown",
   "metadata": {},
   "source": [
    "<div style=\"direction:rtl;line-height:300%;text-align:justify;\">\n",
    "\t<font face=\"B Zar\", size=5px>\n",
    "        ابتدا، داده‌ی مربوط یه رستوران را آزمایش می‌کنیم.\n",
    "    </font>\n",
    "</div>"
   ]
  },
  {
   "cell_type": "code",
   "execution_count": 15,
   "metadata": {
    "colab": {
     "base_uri": "https://localhost:8080/",
     "height": 204
    },
    "colab_type": "code",
    "id": "6j2f1bgXcG2f",
    "outputId": "00ce4082-6c2f-4f2c-89d7-9fd27967c73f"
   },
   "outputs": [
    {
     "data": {
      "text/html": [
       "<div>\n",
       "<style scoped>\n",
       "    .dataframe tbody tr th:only-of-type {\n",
       "        vertical-align: middle;\n",
       "    }\n",
       "\n",
       "    .dataframe tbody tr th {\n",
       "        vertical-align: top;\n",
       "    }\n",
       "\n",
       "    .dataframe thead th {\n",
       "        text-align: right;\n",
       "    }\n",
       "</style>\n",
       "<table border=\"1\" class=\"dataframe\">\n",
       "  <thead>\n",
       "    <tr style=\"text-align: right;\">\n",
       "      <th></th>\n",
       "      <th>Alt</th>\n",
       "      <th>Bar</th>\n",
       "      <th>Fri</th>\n",
       "      <th>Hun</th>\n",
       "      <th>Pat</th>\n",
       "      <th>Price</th>\n",
       "      <th>Rain</th>\n",
       "      <th>Res</th>\n",
       "      <th>Type</th>\n",
       "      <th>Est</th>\n",
       "      <th>Outcome</th>\n",
       "    </tr>\n",
       "  </thead>\n",
       "  <tbody>\n",
       "    <tr>\n",
       "      <td>0</td>\n",
       "      <td>1</td>\n",
       "      <td>0</td>\n",
       "      <td>0</td>\n",
       "      <td>1</td>\n",
       "      <td>Some</td>\n",
       "      <td>3</td>\n",
       "      <td>0</td>\n",
       "      <td>1</td>\n",
       "      <td>French</td>\n",
       "      <td>0-10</td>\n",
       "      <td>1</td>\n",
       "    </tr>\n",
       "    <tr>\n",
       "      <td>1</td>\n",
       "      <td>1</td>\n",
       "      <td>0</td>\n",
       "      <td>0</td>\n",
       "      <td>1</td>\n",
       "      <td>Full</td>\n",
       "      <td>1</td>\n",
       "      <td>0</td>\n",
       "      <td>0</td>\n",
       "      <td>Thai</td>\n",
       "      <td>30-60</td>\n",
       "      <td>0</td>\n",
       "    </tr>\n",
       "    <tr>\n",
       "      <td>2</td>\n",
       "      <td>0</td>\n",
       "      <td>1</td>\n",
       "      <td>0</td>\n",
       "      <td>0</td>\n",
       "      <td>Some</td>\n",
       "      <td>1</td>\n",
       "      <td>0</td>\n",
       "      <td>0</td>\n",
       "      <td>Burger</td>\n",
       "      <td>0-10</td>\n",
       "      <td>1</td>\n",
       "    </tr>\n",
       "    <tr>\n",
       "      <td>3</td>\n",
       "      <td>1</td>\n",
       "      <td>0</td>\n",
       "      <td>1</td>\n",
       "      <td>1</td>\n",
       "      <td>Full</td>\n",
       "      <td>1</td>\n",
       "      <td>1</td>\n",
       "      <td>0</td>\n",
       "      <td>Thai</td>\n",
       "      <td>10-30</td>\n",
       "      <td>1</td>\n",
       "    </tr>\n",
       "    <tr>\n",
       "      <td>4</td>\n",
       "      <td>1</td>\n",
       "      <td>0</td>\n",
       "      <td>1</td>\n",
       "      <td>0</td>\n",
       "      <td>Full</td>\n",
       "      <td>3</td>\n",
       "      <td>0</td>\n",
       "      <td>1</td>\n",
       "      <td>French</td>\n",
       "      <td>&gt;60</td>\n",
       "      <td>0</td>\n",
       "    </tr>\n",
       "    <tr>\n",
       "      <td>5</td>\n",
       "      <td>0</td>\n",
       "      <td>1</td>\n",
       "      <td>0</td>\n",
       "      <td>1</td>\n",
       "      <td>Some</td>\n",
       "      <td>2</td>\n",
       "      <td>1</td>\n",
       "      <td>1</td>\n",
       "      <td>Italian</td>\n",
       "      <td>0-10</td>\n",
       "      <td>1</td>\n",
       "    </tr>\n",
       "    <tr>\n",
       "      <td>6</td>\n",
       "      <td>0</td>\n",
       "      <td>1</td>\n",
       "      <td>0</td>\n",
       "      <td>0</td>\n",
       "      <td>None</td>\n",
       "      <td>1</td>\n",
       "      <td>1</td>\n",
       "      <td>0</td>\n",
       "      <td>Burger</td>\n",
       "      <td>0-10</td>\n",
       "      <td>0</td>\n",
       "    </tr>\n",
       "    <tr>\n",
       "      <td>7</td>\n",
       "      <td>0</td>\n",
       "      <td>0</td>\n",
       "      <td>0</td>\n",
       "      <td>1</td>\n",
       "      <td>Some</td>\n",
       "      <td>2</td>\n",
       "      <td>1</td>\n",
       "      <td>1</td>\n",
       "      <td>Thai</td>\n",
       "      <td>0-10</td>\n",
       "      <td>1</td>\n",
       "    </tr>\n",
       "    <tr>\n",
       "      <td>8</td>\n",
       "      <td>0</td>\n",
       "      <td>1</td>\n",
       "      <td>1</td>\n",
       "      <td>0</td>\n",
       "      <td>Full</td>\n",
       "      <td>1</td>\n",
       "      <td>1</td>\n",
       "      <td>0</td>\n",
       "      <td>Burger</td>\n",
       "      <td>&gt;60</td>\n",
       "      <td>0</td>\n",
       "    </tr>\n",
       "    <tr>\n",
       "      <td>9</td>\n",
       "      <td>1</td>\n",
       "      <td>1</td>\n",
       "      <td>1</td>\n",
       "      <td>1</td>\n",
       "      <td>Full</td>\n",
       "      <td>3</td>\n",
       "      <td>0</td>\n",
       "      <td>1</td>\n",
       "      <td>Italian</td>\n",
       "      <td>10-30</td>\n",
       "      <td>0</td>\n",
       "    </tr>\n",
       "    <tr>\n",
       "      <td>10</td>\n",
       "      <td>0</td>\n",
       "      <td>0</td>\n",
       "      <td>0</td>\n",
       "      <td>0</td>\n",
       "      <td>None</td>\n",
       "      <td>1</td>\n",
       "      <td>0</td>\n",
       "      <td>0</td>\n",
       "      <td>Thai</td>\n",
       "      <td>0-10</td>\n",
       "      <td>0</td>\n",
       "    </tr>\n",
       "    <tr>\n",
       "      <td>11</td>\n",
       "      <td>1</td>\n",
       "      <td>1</td>\n",
       "      <td>1</td>\n",
       "      <td>1</td>\n",
       "      <td>Full</td>\n",
       "      <td>1</td>\n",
       "      <td>0</td>\n",
       "      <td>0</td>\n",
       "      <td>Burger</td>\n",
       "      <td>30-60</td>\n",
       "      <td>1</td>\n",
       "    </tr>\n",
       "  </tbody>\n",
       "</table>\n",
       "</div>"
      ],
      "text/plain": [
       "    Alt  Bar  Fri  Hun   Pat  Price  Rain  Res     Type    Est  Outcome\n",
       "0     1    0    0    1  Some      3     0    1   French   0-10        1\n",
       "1     1    0    0    1  Full      1     0    0     Thai  30-60        0\n",
       "2     0    1    0    0  Some      1     0    0   Burger   0-10        1\n",
       "3     1    0    1    1  Full      1     1    0     Thai  10-30        1\n",
       "4     1    0    1    0  Full      3     0    1   French    >60        0\n",
       "5     0    1    0    1  Some      2     1    1  Italian   0-10        1\n",
       "6     0    1    0    0  None      1     1    0   Burger   0-10        0\n",
       "7     0    0    0    1  Some      2     1    1     Thai   0-10        1\n",
       "8     0    1    1    0  Full      1     1    0   Burger    >60        0\n",
       "9     1    1    1    1  Full      3     0    1  Italian  10-30        0\n",
       "10    0    0    0    0  None      1     0    0     Thai   0-10        0\n",
       "11    1    1    1    1  Full      1     0    0   Burger  30-60        1"
      ]
     },
     "execution_count": 15,
     "metadata": {},
     "output_type": "execute_result"
    }
   ],
   "source": [
    "sample_data = pd.read_csv('sample_tree.csv')\n",
    "sample_data"
   ]
  },
  {
   "cell_type": "markdown",
   "metadata": {},
   "source": [
    "<div style=\"direction:rtl;line-height:300%;text-align:justify;\">\n",
    "\t<font face=\"B Zar\", size=5px>\n",
    "        feature\n",
    "        ها را از Outcome\n",
    "        جدا می‌کنیم.\n",
    "    </font>\n",
    "</div>"
   ]
  },
  {
   "cell_type": "code",
   "execution_count": 16,
   "metadata": {
    "colab": {},
    "colab_type": "code",
    "id": "t12FV5ID-nuv"
   },
   "outputs": [],
   "source": [
    "X, y = sample_data.drop('Outcome', axis=1), sample_data['Outcome']"
   ]
  },
  {
   "cell_type": "markdown",
   "metadata": {},
   "source": [
    "<div style=\"direction:rtl;line-height:300%;text-align:justify;\">\n",
    "\t<font face=\"B Zar\", size=5px>\n",
    "        سپس نوع هر یک از feature\n",
    "        ها را تعیین می‌کنیم.\n",
    "    </font>\n",
    "</div>"
   ]
  },
  {
   "cell_type": "code",
   "execution_count": 17,
   "metadata": {
    "colab": {
     "base_uri": "https://localhost:8080/",
     "height": 187
    },
    "colab_type": "code",
    "id": "7uBCyFVVcdQg",
    "outputId": "4542e70c-a9d0-4c8b-dd93-164a46c4aa9a"
   },
   "outputs": [
    {
     "data": {
      "text/plain": [
       "{'Alt': 'discrete',\n",
       " 'Bar': 'discrete',\n",
       " 'Fri': 'discrete',\n",
       " 'Hun': 'discrete',\n",
       " 'Pat': 'discrete',\n",
       " 'Price': 'discrete',\n",
       " 'Rain': 'discrete',\n",
       " 'Res': 'discrete',\n",
       " 'Type': 'discrete',\n",
       " 'Est': 'discrete'}"
      ]
     },
     "execution_count": 17,
     "metadata": {},
     "output_type": "execute_result"
    }
   ],
   "source": [
    "feature_types = {feature: discrete for feature in X.columns}\n",
    "feature_types"
   ]
  },
  {
   "cell_type": "markdown",
   "metadata": {},
   "source": [
    "<div style=\"direction:rtl;line-height:300%;text-align:justify;\">\n",
    "\t<font face=\"B Zar\", size=5px>\n",
    "        یک instance\n",
    "        از کلاس DecisionTreeBinaryClassifier\n",
    "        می‌سازیم.\n",
    "    </font>\n",
    "</div>"
   ]
  },
  {
   "cell_type": "code",
   "execution_count": 18,
   "metadata": {
    "colab": {},
    "colab_type": "code",
    "id": "lHpwzlhHcOhv"
   },
   "outputs": [],
   "source": [
    "sample_decision = DecisionTreeBinaryClassifier()"
   ]
  },
  {
   "cell_type": "markdown",
   "metadata": {},
   "source": [
    "<div style=\"direction:rtl;line-height:300%;text-align:justify;\">\n",
    "\t<font face=\"B Zar\", size=5px>\n",
    "        یادگیری روی داده‌ها انجام شده و درخت چاپ می‌شود. همانطور که مشاهده می‌شود، درخت ساخته شده، دقیقا مشابه درختی است که در اسلایدها نیز بود.\n",
    "    </font>\n",
    "</div>"
   ]
  },
  {
   "cell_type": "code",
   "execution_count": 19,
   "metadata": {
    "colab": {
     "base_uri": "https://localhost:8080/",
     "height": 629
    },
    "colab_type": "code",
    "id": "_7GEvEw5cchV",
    "outputId": "8ef29772-a679-4cc0-97df-ae401d1399f7"
   },
   "outputs": [
    {
     "data": {
      "text/plain": [
       "{\n",
       "    \"Feature\": \"Pat\",\n",
       "    \"Information gain\": 0.5408520829727552,\n",
       "    \"Entropy\": 1.0,\n",
       "    \"Children\": {\n",
       "        \"Some\": 1,\n",
       "        \"Full\": {\n",
       "            \"Feature\": \"Hun\",\n",
       "            \"Information gain\": 0.2516291673878229,\n",
       "            \"Entropy\": 0.9182958340544896,\n",
       "            \"Children\": {\n",
       "                \"1\": {\n",
       "                    \"Feature\": \"Type\",\n",
       "                    \"Information gain\": 0.5,\n",
       "                    \"Entropy\": 1.0,\n",
       "                    \"Children\": {\n",
       "                        \"French\": 1,\n",
       "                        \"Thai\": {\n",
       "                            \"Feature\": \"Fri\",\n",
       "                            \"Information gain\": 1.0,\n",
       "                            \"Entropy\": 1.0,\n",
       "                            \"Children\": {\n",
       "                                \"0\": 0,\n",
       "                                \"1\": 1\n",
       "                            }\n",
       "                        },\n",
       "                        \"Burger\": 1,\n",
       "                        \"Italian\": 0\n",
       "                    }\n",
       "                },\n",
       "                \"0\": 0\n",
       "            }\n",
       "        },\n",
       "        \"None\": 0\n",
       "    }\n",
       "}"
      ]
     },
     "execution_count": 19,
     "metadata": {},
     "output_type": "execute_result"
    }
   ],
   "source": [
    "sample_decision.fit(X, y, feature_types)"
   ]
  },
  {
   "cell_type": "code",
   "execution_count": 20,
   "metadata": {
    "colab": {
     "base_uri": "https://localhost:8080/",
     "height": 34
    },
    "colab_type": "code",
    "id": "roQt8ASdBvQJ",
    "outputId": "344a5ddf-327a-4393-fbd8-8f9e5ef3cf4d"
   },
   "outputs": [
    {
     "data": {
      "text/plain": [
       "4"
      ]
     },
     "execution_count": 20,
     "metadata": {},
     "output_type": "execute_result"
    }
   ],
   "source": [
    "sample_decision.height"
   ]
  },
  {
   "cell_type": "markdown",
   "metadata": {},
   "source": [
    "<div style=\"direction:rtl;line-height:300%;text-align:justify;\">\n",
    "\t<font face=\"B Zar\", size=5px>\n",
    "        صحت روی داده‌ها را چاپ می‌کنیم. همانطور که مشخص است، درخت تصمیم تمام داده‌ها را به درستی تشخیص می‌دهد.\n",
    "    </font>\n",
    "</div>"
   ]
  },
  {
   "cell_type": "code",
   "execution_count": 21,
   "metadata": {
    "colab": {
     "base_uri": "https://localhost:8080/",
     "height": 34
    },
    "colab_type": "code",
    "id": "ivaKW-lKmhmS",
    "outputId": "6d3c45b7-53fc-4af0-a418-cbf2db54f452"
   },
   "outputs": [
    {
     "data": {
      "text/plain": [
       "1.0"
      ]
     },
     "execution_count": 21,
     "metadata": {},
     "output_type": "execute_result"
    }
   ],
   "source": [
    "prediction = sample_decision.predict(X)\n",
    "calculate_accuracy(prediction, y)"
   ]
  },
  {
   "cell_type": "markdown",
   "metadata": {},
   "source": [
    "<div style=\"direction:rtl;line-height:300%;text-align:justify;\">\n",
    "\t<font face=\"B Zar\", size=5px>\n",
    "        حال داده‌های مربوط به دیابت را آزمایش می‌کنیم.\n",
    "    </font>\n",
    "</div>"
   ]
  },
  {
   "cell_type": "code",
   "execution_count": 22,
   "metadata": {
    "colab": {
     "base_uri": "https://localhost:8080/",
     "height": 204
    },
    "colab_type": "code",
    "id": "FOEh0KIvafdK",
    "outputId": "863fe729-ea87-4249-9c98-4cc6a81c78f4"
   },
   "outputs": [
    {
     "data": {
      "text/html": [
       "<div>\n",
       "<style scoped>\n",
       "    .dataframe tbody tr th:only-of-type {\n",
       "        vertical-align: middle;\n",
       "    }\n",
       "\n",
       "    .dataframe tbody tr th {\n",
       "        vertical-align: top;\n",
       "    }\n",
       "\n",
       "    .dataframe thead th {\n",
       "        text-align: right;\n",
       "    }\n",
       "</style>\n",
       "<table border=\"1\" class=\"dataframe\">\n",
       "  <thead>\n",
       "    <tr style=\"text-align: right;\">\n",
       "      <th></th>\n",
       "      <th>Pregnancies</th>\n",
       "      <th>Glucose</th>\n",
       "      <th>BloodPressure</th>\n",
       "      <th>SkinThickness</th>\n",
       "      <th>Insulin</th>\n",
       "      <th>BMI</th>\n",
       "      <th>DiabetesPedigreeFunction</th>\n",
       "      <th>Age</th>\n",
       "      <th>Outcome</th>\n",
       "    </tr>\n",
       "  </thead>\n",
       "  <tbody>\n",
       "    <tr>\n",
       "      <td>0</td>\n",
       "      <td>6</td>\n",
       "      <td>148</td>\n",
       "      <td>72</td>\n",
       "      <td>35</td>\n",
       "      <td>0</td>\n",
       "      <td>33.6</td>\n",
       "      <td>0.627</td>\n",
       "      <td>50</td>\n",
       "      <td>1</td>\n",
       "    </tr>\n",
       "    <tr>\n",
       "      <td>1</td>\n",
       "      <td>1</td>\n",
       "      <td>85</td>\n",
       "      <td>66</td>\n",
       "      <td>29</td>\n",
       "      <td>0</td>\n",
       "      <td>26.6</td>\n",
       "      <td>0.351</td>\n",
       "      <td>31</td>\n",
       "      <td>0</td>\n",
       "    </tr>\n",
       "    <tr>\n",
       "      <td>2</td>\n",
       "      <td>8</td>\n",
       "      <td>183</td>\n",
       "      <td>64</td>\n",
       "      <td>0</td>\n",
       "      <td>0</td>\n",
       "      <td>23.3</td>\n",
       "      <td>0.672</td>\n",
       "      <td>32</td>\n",
       "      <td>1</td>\n",
       "    </tr>\n",
       "    <tr>\n",
       "      <td>3</td>\n",
       "      <td>1</td>\n",
       "      <td>89</td>\n",
       "      <td>66</td>\n",
       "      <td>23</td>\n",
       "      <td>94</td>\n",
       "      <td>28.1</td>\n",
       "      <td>0.167</td>\n",
       "      <td>21</td>\n",
       "      <td>0</td>\n",
       "    </tr>\n",
       "    <tr>\n",
       "      <td>4</td>\n",
       "      <td>0</td>\n",
       "      <td>137</td>\n",
       "      <td>40</td>\n",
       "      <td>35</td>\n",
       "      <td>168</td>\n",
       "      <td>43.1</td>\n",
       "      <td>2.288</td>\n",
       "      <td>33</td>\n",
       "      <td>1</td>\n",
       "    </tr>\n",
       "  </tbody>\n",
       "</table>\n",
       "</div>"
      ],
      "text/plain": [
       "   Pregnancies  Glucose  BloodPressure  SkinThickness  Insulin   BMI  \\\n",
       "0            6      148             72             35        0  33.6   \n",
       "1            1       85             66             29        0  26.6   \n",
       "2            8      183             64              0        0  23.3   \n",
       "3            1       89             66             23       94  28.1   \n",
       "4            0      137             40             35      168  43.1   \n",
       "\n",
       "   DiabetesPedigreeFunction  Age  Outcome  \n",
       "0                     0.627   50        1  \n",
       "1                     0.351   31        0  \n",
       "2                     0.672   32        1  \n",
       "3                     0.167   21        0  \n",
       "4                     2.288   33        1  "
      ]
     },
     "execution_count": 22,
     "metadata": {},
     "output_type": "execute_result"
    }
   ],
   "source": [
    "diabetes = pd.read_csv('diabetes.csv')\n",
    "diabetes.head()"
   ]
  },
  {
   "cell_type": "code",
   "execution_count": 23,
   "metadata": {
    "colab": {
     "base_uri": "https://localhost:8080/",
     "height": 153
    },
    "colab_type": "code",
    "id": "D6NyBR9roMzT",
    "outputId": "76359ec4-21eb-4c69-f343-f9998366394d"
   },
   "outputs": [
    {
     "data": {
      "text/plain": [
       "{'Pregnancies': 'continuous',\n",
       " 'Glucose': 'continuous',\n",
       " 'BloodPressure': 'continuous',\n",
       " 'SkinThickness': 'continuous',\n",
       " 'Insulin': 'continuous',\n",
       " 'BMI': 'continuous',\n",
       " 'DiabetesPedigreeFunction': 'continuous',\n",
       " 'Age': 'continuous'}"
      ]
     },
     "execution_count": 23,
     "metadata": {},
     "output_type": "execute_result"
    }
   ],
   "source": [
    "diabetes_feature_types = {feature: continuous for feature in diabetes.columns[diabetes.columns != 'Outcome']}\n",
    "diabetes_feature_types"
   ]
  },
  {
   "cell_type": "markdown",
   "metadata": {},
   "source": [
    "<div style=\"direction:rtl;line-height:300%;text-align:justify;\">\n",
    "\t<font face=\"B Zar\", size=5px>\n",
    "        ۲۰ درصد از داده‌ها را برای تست جدا می‌کنیم.\n",
    "    </font>\n",
    "</div>"
   ]
  },
  {
   "cell_type": "code",
   "execution_count": 48,
   "metadata": {
    "colab": {},
    "colab_type": "code",
    "id": "0QL0KULxpSCD"
   },
   "outputs": [],
   "source": [
    "from sklearn.model_selection import train_test_split\n",
    "X_train, X_test, y_train, y_test = train_test_split(diabetes.drop('Outcome', axis=1), diabetes['Outcome'], test_size=0.99)"
   ]
  },
  {
   "cell_type": "code",
   "execution_count": 49,
   "metadata": {
    "colab": {},
    "colab_type": "code",
    "id": "ogINhfv0u7We"
   },
   "outputs": [],
   "source": [
    "diabetes_classifier = DecisionTreeBinaryClassifier()"
   ]
  },
  {
   "cell_type": "code",
   "execution_count": 50,
   "metadata": {
    "colab": {
     "base_uri": "https://localhost:8080/",
     "height": 34
    },
    "colab_type": "code",
    "id": "pru0GubX76CB",
    "outputId": "3e3601bc-90ad-494e-861c-1a35392a963a"
   },
   "outputs": [
    {
     "data": {
      "text/plain": [
       "{\n",
       "    \"Feature\": \"BMI\",\n",
       "    \"Information gain\": 0.4695652111147069,\n",
       "    \"Entropy\": 0.863120568566631,\n",
       "    \"Children\": {\n",
       "        \"-inf-35.150000000000006\": {\n",
       "            \"Feature\": \"Glucose\",\n",
       "            \"Information gain\": 0.9182958340544896,\n",
       "            \"Entropy\": 0.9182958340544896,\n",
       "            \"Children\": {\n",
       "                \"-inf-136.0\": 1,\n",
       "                \"136.0-inf\": 0\n",
       "            }\n",
       "        },\n",
       "        \"35.150000000000006-inf\": 0\n",
       "    }\n",
       "}"
      ]
     },
     "execution_count": 50,
     "metadata": {},
     "output_type": "execute_result"
    }
   ],
   "source": [
    "diabetes_classifier.fit(X_train, y_train, diabetes_feature_types)"
   ]
  },
  {
   "cell_type": "code",
   "execution_count": 51,
   "metadata": {
    "colab": {
     "base_uri": "https://localhost:8080/",
     "height": 850
    },
    "colab_type": "code",
    "id": "0KGWrFNkgGLc",
    "outputId": "baf1cfdf-0429-4320-8762-55e7364dd998"
   },
   "outputs": [
    {
     "data": {
      "text/plain": [
       "2"
      ]
     },
     "execution_count": 51,
     "metadata": {},
     "output_type": "execute_result"
    }
   ],
   "source": [
    "diabetes_classifier.height"
   ]
  },
  {
   "cell_type": "markdown",
   "metadata": {},
   "source": [
    "<div style=\"direction:rtl;line-height:300%;text-align:justify;\">\n",
    "\t<font face=\"B Zar\", size=5px>\n",
    "        همانطور که مشاهده می‌شود، دقت درخت روی داده‌های train\n",
    "        و test\n",
    "        تقریبا یکسان است و این یعنی مدل overfit\n",
    "        نشده است. اما هرگونه بهینه‌سازی، نتوانست دقت را از این بالاتر ببرد.\n",
    "        حدس من این است که با توجه به این که بخش زیادی از داده، ناقص است و در برخی از داده‌ها مقدار بعضی از فیچر ها صفر است، داده نیاز به تمیزکاری دارد.\n",
    "        مثلا می‌توان مقادیر نامشخص را با میانگین کل داده‌ها جایگزین کرد.\n",
    "    </font>\n",
    "</div>"
   ]
  },
  {
   "cell_type": "code",
   "execution_count": 52,
   "metadata": {
    "colab": {
     "base_uri": "https://localhost:8080/",
     "height": 34
    },
    "colab_type": "code",
    "id": "tgJQCHMcqZyu",
    "outputId": "3722e542-085a-4201-cffb-8aae1c9aec1d"
   },
   "outputs": [
    {
     "data": {
      "text/plain": [
       "'train accuracy: 1.0'"
      ]
     },
     "execution_count": 52,
     "metadata": {},
     "output_type": "execute_result"
    }
   ],
   "source": [
    "train_prediction = diabetes_classifier.predict(X_train)\n",
    "f'train accuracy: {calculate_accuracy(train_prediction, y_train)}'"
   ]
  },
  {
   "cell_type": "code",
   "execution_count": 53,
   "metadata": {
    "colab": {
     "base_uri": "https://localhost:8080/",
     "height": 34
    },
    "colab_type": "code",
    "id": "gTuZWsnFV-QG",
    "outputId": "ad1833ce-21d0-4b73-c316-bfea87f5aef6"
   },
   "outputs": [
    {
     "data": {
      "text/plain": [
       "'test accuracy: 0.3363994743758213'"
      ]
     },
     "execution_count": 53,
     "metadata": {},
     "output_type": "execute_result"
    }
   ],
   "source": [
    "test_prediction = diabetes_classifier.predict(X_test)\n",
    "f'test accuracy: {calculate_accuracy(test_prediction, y_test)}'"
   ]
  },
  {
   "cell_type": "markdown",
   "metadata": {},
   "source": [
    "<div style=\"direction:rtl;line-height:300%;text-align:justify;\">\n",
    "\t<font face=\"B Zar\", size=5px>\n",
    "        به جهت مقایسه، داده‌ها روی دو الگوریتم، با استفاده از کتابخانه‌های آماده نیز آموزش داده‌شدند که در ادامه مشاهده می‌کنید:\n",
    "        <h4>کلاس DecisionTreeClassifier از کتابخانه‌ی sci-kit leaen</h4>\n",
    "    </font>\n",
    "</div>"
   ]
  },
  {
   "cell_type": "code",
   "execution_count": 34,
   "metadata": {
    "colab": {},
    "colab_type": "code",
    "id": "CSylZX2hmE38"
   },
   "outputs": [],
   "source": [
    "from sklearn.tree import DecisionTreeClassifier\n",
    "sk_classifier = DecisionTreeClassifier(criterion='entropy', max_depth=5)"
   ]
  },
  {
   "cell_type": "code",
   "execution_count": 35,
   "metadata": {
    "colab": {
     "base_uri": "https://localhost:8080/",
     "height": 119
    },
    "colab_type": "code",
    "id": "D_aUc8-wm0cE",
    "outputId": "0e1d5a0b-e534-48f2-a985-22ba8b2fadc7"
   },
   "outputs": [
    {
     "data": {
      "text/plain": [
       "DecisionTreeClassifier(class_weight=None, criterion='entropy', max_depth=5,\n",
       "                       max_features=None, max_leaf_nodes=None,\n",
       "                       min_impurity_decrease=0.0, min_impurity_split=None,\n",
       "                       min_samples_leaf=1, min_samples_split=2,\n",
       "                       min_weight_fraction_leaf=0.0, presort=False,\n",
       "                       random_state=None, splitter='best')"
      ]
     },
     "execution_count": 35,
     "metadata": {},
     "output_type": "execute_result"
    }
   ],
   "source": [
    "sk_classifier.fit(X_train, y_train)"
   ]
  },
  {
   "cell_type": "markdown",
   "metadata": {},
   "source": [
    "<div style=\"direction:rtl;line-height:300%;text-align:justify;\">\n",
    "\t<font face=\"B Zar\", size=5px>\n",
    "        همانطور که مشاهده می‌شود، دقت الگوریتم آن‌چنان بیشتر از درخت تصمیم پیاده‌سازی شده نیست.\n",
    "    </font>\n",
    "</div>"
   ]
  },
  {
   "cell_type": "code",
   "execution_count": 36,
   "metadata": {
    "colab": {
     "base_uri": "https://localhost:8080/",
     "height": 34
    },
    "colab_type": "code",
    "id": "pdxJBhjVfZot",
    "outputId": "bbb2fd4e-60ee-493c-e908-041254ce8878"
   },
   "outputs": [
    {
     "data": {
      "text/plain": [
       "'train accuracy: 0.8306188925081434'"
      ]
     },
     "execution_count": 36,
     "metadata": {},
     "output_type": "execute_result"
    }
   ],
   "source": [
    "train_prediction = sk_classifier.predict(X_train)\n",
    "f'train accuracy: {calculate_accuracy(train_prediction, y_train)}'"
   ]
  },
  {
   "cell_type": "code",
   "execution_count": 37,
   "metadata": {
    "colab": {
     "base_uri": "https://localhost:8080/",
     "height": 34
    },
    "colab_type": "code",
    "id": "1jxGZsnwqv0d",
    "outputId": "40b36862-8d21-407e-baaa-f487f60c930e"
   },
   "outputs": [
    {
     "data": {
      "text/plain": [
       "'sklearn test accuracy: 0.7662337662337663'"
      ]
     },
     "execution_count": 37,
     "metadata": {},
     "output_type": "execute_result"
    }
   ],
   "source": [
    "test_prediction = sk_classifier.predict(X_test)\n",
    "f'sklearn test accuracy: {calculate_accuracy(test_prediction, y_test)}'"
   ]
  },
  {
   "cell_type": "markdown",
   "metadata": {},
   "source": [
    "<div style=\"direction:rtl;line-height:300%;text-align:justify;\">\n",
    "\t<font face=\"B Zar\", size=5px>\n",
    "        <h4>شبکه عصبی Sequential از کتابخانه‌ی keras و tensorflow</h4>\n",
    "        <br>\n",
    "        شبکه عصبی طراحی شده، دارای یک لایه‌ی Dense\n",
    "        ورودی، یک لایه‌ی hidden\n",
    "        و یک لایه خروجی می‌باشد که در ادامه مشاهده می‌کنید.\n",
    "    </font>\n",
    "</div>"
   ]
  },
  {
   "cell_type": "code",
   "execution_count": 48,
   "metadata": {
    "colab": {
     "base_uri": "https://localhost:8080/",
     "height": 34
    },
    "colab_type": "code",
    "id": "oD9vZLKB0frV",
    "outputId": "6918f833-aa14-4411-93d3-80d0005ecf59"
   },
   "outputs": [
    {
     "name": "stderr",
     "output_type": "stream",
     "text": [
      "Using TensorFlow backend.\n"
     ]
    }
   ],
   "source": [
    "import keras\n",
    "from keras.models import Sequential #used to initialize the NN\n",
    "from keras.layers import Dense  #used to build the hidden Layers\n",
    "from keras.layers import Dropout"
   ]
  },
  {
   "cell_type": "code",
   "execution_count": 49,
   "metadata": {
    "colab": {},
    "colab_type": "code",
    "id": "RJzhhd2C162R"
   },
   "outputs": [],
   "source": [
    "X_train, X_test, y_train, y_test = train_test_split(diabetes.drop('Outcome', axis=1).values, diabetes['Outcome'].values, test_size=0.2)"
   ]
  },
  {
   "cell_type": "code",
   "execution_count": 51,
   "metadata": {
    "colab": {
     "base_uri": "https://localhost:8080/",
     "height": 391
    },
    "colab_type": "code",
    "id": "__KSnArU0ikc",
    "outputId": "90b74a9b-51e4-4899-d76d-53e367593b74"
   },
   "outputs": [
    {
     "name": "stdout",
     "output_type": "stream",
     "text": [
      "Model: \"sequential_2\"\n",
      "_________________________________________________________________\n",
      "Layer (type)                 Output Shape              Param #   \n",
      "=================================================================\n",
      "dense_4 (Dense)              (None, 32)                288       \n",
      "_________________________________________________________________\n",
      "dropout_3 (Dropout)          (None, 32)                0         \n",
      "_________________________________________________________________\n",
      "dense_5 (Dense)              (None, 32)                1056      \n",
      "_________________________________________________________________\n",
      "dropout_4 (Dropout)          (None, 32)                0         \n",
      "_________________________________________________________________\n",
      "dense_6 (Dense)              (None, 1)                 33        \n",
      "=================================================================\n",
      "Total params: 1,377\n",
      "Trainable params: 1,377\n",
      "Non-trainable params: 0\n",
      "_________________________________________________________________\n"
     ]
    }
   ],
   "source": [
    "diabetes_NN = Sequential()\n",
    "diabetes_NN.add(Dense(units = 32, kernel_initializer = 'uniform', activation = 'relu', input_dim = 8))\n",
    "diabetes_NN.add(Dropout(rate=0.1))\n",
    "\n",
    "diabetes_NN.add(Dense(units = 32, kernel_initializer = 'uniform', activation = 'relu'))\n",
    "diabetes_NN.add(Dropout(rate=0.1))\n",
    "\n",
    "diabetes_NN.add(Dense(units = 1, kernel_initializer = 'uniform', activation = 'sigmoid'))\n",
    "diabetes_NN.compile(optimizer = 'adam', loss = 'binary_crossentropy', metrics = ['accuracy'])\n",
    "diabetes_NN.summary()"
   ]
  },
  {
   "cell_type": "code",
   "execution_count": 56,
   "metadata": {
    "colab": {
     "base_uri": "https://localhost:8080/",
     "height": 1000
    },
    "colab_type": "code",
    "id": "ZW8cX13L2qiL",
    "outputId": "cf4ca21c-d96c-4bf8-c7e1-2dcff5852895",
    "scrolled": true
   },
   "outputs": [
    {
     "name": "stdout",
     "output_type": "stream",
     "text": [
      "Train on 552 samples, validate on 62 samples\n",
      "Epoch 1/100\n",
      "552/552 [==============================] - 0s 179us/step - loss: 0.5079 - accuracy: 0.7337 - val_loss: 0.4931 - val_accuracy: 0.7903\n",
      "Epoch 2/100\n",
      "552/552 [==============================] - 0s 291us/step - loss: 0.4855 - accuracy: 0.7609 - val_loss: 0.4896 - val_accuracy: 0.7419\n",
      "Epoch 3/100\n",
      "552/552 [==============================] - 0s 246us/step - loss: 0.4657 - accuracy: 0.7736 - val_loss: 0.4975 - val_accuracy: 0.7903\n",
      "Epoch 4/100\n",
      "552/552 [==============================] - 0s 226us/step - loss: 0.4603 - accuracy: 0.7826 - val_loss: 0.4968 - val_accuracy: 0.7742\n",
      "Epoch 5/100\n",
      "552/552 [==============================] - 0s 244us/step - loss: 0.4418 - accuracy: 0.7862 - val_loss: 0.4942 - val_accuracy: 0.7581\n",
      "Epoch 6/100\n",
      "552/552 [==============================] - 0s 208us/step - loss: 0.4860 - accuracy: 0.7627 - val_loss: 0.4997 - val_accuracy: 0.7419\n",
      "Epoch 7/100\n",
      "552/552 [==============================] - 0s 267us/step - loss: 0.4878 - accuracy: 0.7536 - val_loss: 0.4889 - val_accuracy: 0.8226\n",
      "Epoch 8/100\n",
      "552/552 [==============================] - 0s 238us/step - loss: 0.5084 - accuracy: 0.7428 - val_loss: 0.5149 - val_accuracy: 0.7581\n",
      "Epoch 9/100\n",
      "552/552 [==============================] - 0s 194us/step - loss: 0.5124 - accuracy: 0.7627 - val_loss: 0.4846 - val_accuracy: 0.7419\n",
      "Epoch 10/100\n",
      "552/552 [==============================] - 0s 253us/step - loss: 0.4604 - accuracy: 0.7681 - val_loss: 0.4901 - val_accuracy: 0.7419\n",
      "Epoch 11/100\n",
      "552/552 [==============================] - 0s 239us/step - loss: 0.4661 - accuracy: 0.7754 - val_loss: 0.4811 - val_accuracy: 0.7581\n",
      "Epoch 12/100\n",
      "552/552 [==============================] - 0s 249us/step - loss: 0.4635 - accuracy: 0.7953 - val_loss: 0.4829 - val_accuracy: 0.8065\n",
      "Epoch 13/100\n",
      "552/552 [==============================] - 0s 255us/step - loss: 0.4665 - accuracy: 0.7826 - val_loss: 0.4749 - val_accuracy: 0.8065\n",
      "Epoch 14/100\n",
      "552/552 [==============================] - 0s 177us/step - loss: 0.4680 - accuracy: 0.7699 - val_loss: 0.5027 - val_accuracy: 0.7419\n",
      "Epoch 15/100\n",
      "552/552 [==============================] - 0s 145us/step - loss: 0.4916 - accuracy: 0.7428 - val_loss: 0.4924 - val_accuracy: 0.7581\n",
      "Epoch 16/100\n",
      "552/552 [==============================] - 0s 226us/step - loss: 0.4552 - accuracy: 0.7754 - val_loss: 0.4857 - val_accuracy: 0.8226\n",
      "Epoch 17/100\n",
      "552/552 [==============================] - 0s 257us/step - loss: 0.4851 - accuracy: 0.7772 - val_loss: 0.4808 - val_accuracy: 0.8065\n",
      "Epoch 18/100\n",
      "552/552 [==============================] - 0s 249us/step - loss: 0.4778 - accuracy: 0.7554 - val_loss: 0.4716 - val_accuracy: 0.7742\n",
      "Epoch 19/100\n",
      "552/552 [==============================] - 0s 190us/step - loss: 0.4591 - accuracy: 0.7736 - val_loss: 0.4977 - val_accuracy: 0.7419\n",
      "Epoch 20/100\n",
      "552/552 [==============================] - 0s 179us/step - loss: 0.4495 - accuracy: 0.7880 - val_loss: 0.5230 - val_accuracy: 0.7097\n",
      "Epoch 21/100\n",
      "552/552 [==============================] - 0s 238us/step - loss: 0.4750 - accuracy: 0.7609 - val_loss: 0.5118 - val_accuracy: 0.7581\n",
      "Epoch 22/100\n",
      "552/552 [==============================] - 0s 242us/step - loss: 0.4602 - accuracy: 0.8043 - val_loss: 0.5048 - val_accuracy: 0.7419\n",
      "Epoch 23/100\n",
      "552/552 [==============================] - 0s 251us/step - loss: 0.4861 - accuracy: 0.7717 - val_loss: 0.5152 - val_accuracy: 0.6935\n",
      "Epoch 24/100\n",
      "552/552 [==============================] - 0s 202us/step - loss: 0.4786 - accuracy: 0.7536 - val_loss: 0.4907 - val_accuracy: 0.7903\n",
      "Epoch 25/100\n",
      "552/552 [==============================] - 0s 195us/step - loss: 0.4535 - accuracy: 0.7772 - val_loss: 0.4917 - val_accuracy: 0.7581\n",
      "Epoch 26/100\n",
      "552/552 [==============================] - 0s 161us/step - loss: 0.4622 - accuracy: 0.7880 - val_loss: 0.4927 - val_accuracy: 0.7419\n",
      "Epoch 27/100\n",
      "552/552 [==============================] - 0s 170us/step - loss: 0.4661 - accuracy: 0.7572 - val_loss: 0.4854 - val_accuracy: 0.7903\n",
      "Epoch 28/100\n",
      "552/552 [==============================] - 0s 235us/step - loss: 0.4680 - accuracy: 0.7772 - val_loss: 0.4849 - val_accuracy: 0.7581\n",
      "Epoch 29/100\n",
      "552/552 [==============================] - 0s 177us/step - loss: 0.4528 - accuracy: 0.8025 - val_loss: 0.4922 - val_accuracy: 0.7903\n",
      "Epoch 30/100\n",
      "552/552 [==============================] - 0s 176us/step - loss: 0.4425 - accuracy: 0.7844 - val_loss: 0.4924 - val_accuracy: 0.7581\n",
      "Epoch 31/100\n",
      "552/552 [==============================] - 0s 225us/step - loss: 0.4477 - accuracy: 0.7917 - val_loss: 0.4801 - val_accuracy: 0.8226\n",
      "Epoch 32/100\n",
      "552/552 [==============================] - 0s 185us/step - loss: 0.4584 - accuracy: 0.7790 - val_loss: 0.4682 - val_accuracy: 0.7742\n",
      "Epoch 33/100\n",
      "552/552 [==============================] - 0s 232us/step - loss: 0.4541 - accuracy: 0.7790 - val_loss: 0.4723 - val_accuracy: 0.8065\n",
      "Epoch 34/100\n",
      "552/552 [==============================] - 0s 171us/step - loss: 0.4973 - accuracy: 0.7482 - val_loss: 0.5033 - val_accuracy: 0.7097\n",
      "Epoch 35/100\n",
      "552/552 [==============================] - 0s 184us/step - loss: 0.4821 - accuracy: 0.7736 - val_loss: 0.4631 - val_accuracy: 0.8065\n",
      "Epoch 36/100\n",
      "552/552 [==============================] - 0s 197us/step - loss: 0.4692 - accuracy: 0.7717 - val_loss: 0.4979 - val_accuracy: 0.7581\n",
      "Epoch 37/100\n",
      "552/552 [==============================] - 0s 256us/step - loss: 0.4612 - accuracy: 0.7862 - val_loss: 0.4750 - val_accuracy: 0.7419\n",
      "Epoch 38/100\n",
      "552/552 [==============================] - 0s 190us/step - loss: 0.4580 - accuracy: 0.7935 - val_loss: 0.4922 - val_accuracy: 0.8065\n",
      "Epoch 39/100\n",
      "552/552 [==============================] - 0s 129us/step - loss: 0.4646 - accuracy: 0.7899 - val_loss: 0.4997 - val_accuracy: 0.7742\n",
      "Epoch 40/100\n",
      "552/552 [==============================] - 0s 265us/step - loss: 0.4650 - accuracy: 0.7627 - val_loss: 0.4932 - val_accuracy: 0.7742\n",
      "Epoch 41/100\n",
      "552/552 [==============================] - 0s 271us/step - loss: 0.4556 - accuracy: 0.7989 - val_loss: 0.5161 - val_accuracy: 0.8065\n",
      "Epoch 42/100\n",
      "552/552 [==============================] - 0s 305us/step - loss: 0.4652 - accuracy: 0.7808 - val_loss: 0.5083 - val_accuracy: 0.7581\n",
      "Epoch 43/100\n",
      "552/552 [==============================] - 0s 267us/step - loss: 0.4768 - accuracy: 0.7880 - val_loss: 0.4979 - val_accuracy: 0.7581\n",
      "Epoch 44/100\n",
      "552/552 [==============================] - 0s 264us/step - loss: 0.4402 - accuracy: 0.7826 - val_loss: 0.4915 - val_accuracy: 0.7742\n",
      "Epoch 45/100\n",
      "552/552 [==============================] - 0s 229us/step - loss: 0.4574 - accuracy: 0.7880 - val_loss: 0.4769 - val_accuracy: 0.7903\n",
      "Epoch 46/100\n",
      "552/552 [==============================] - 0s 239us/step - loss: 0.4528 - accuracy: 0.7754 - val_loss: 0.4762 - val_accuracy: 0.7903\n",
      "Epoch 47/100\n",
      "552/552 [==============================] - 0s 234us/step - loss: 0.4624 - accuracy: 0.7808 - val_loss: 0.4933 - val_accuracy: 0.7581\n",
      "Epoch 48/100\n",
      "552/552 [==============================] - 0s 262us/step - loss: 0.4651 - accuracy: 0.7645 - val_loss: 0.4891 - val_accuracy: 0.7903\n",
      "Epoch 49/100\n",
      "552/552 [==============================] - 0s 197us/step - loss: 0.4735 - accuracy: 0.7699 - val_loss: 0.4862 - val_accuracy: 0.7903\n",
      "Epoch 50/100\n",
      "552/552 [==============================] - 0s 231us/step - loss: 0.4512 - accuracy: 0.7899 - val_loss: 0.4941 - val_accuracy: 0.7903\n",
      "Epoch 51/100\n",
      "552/552 [==============================] - 0s 182us/step - loss: 0.4504 - accuracy: 0.7971 - val_loss: 0.5368 - val_accuracy: 0.7258\n",
      "Epoch 52/100\n",
      "552/552 [==============================] - 0s 177us/step - loss: 0.4586 - accuracy: 0.7808 - val_loss: 0.4798 - val_accuracy: 0.7419\n",
      "Epoch 53/100\n",
      "552/552 [==============================] - 0s 193us/step - loss: 0.4749 - accuracy: 0.7772 - val_loss: 0.5063 - val_accuracy: 0.7419\n",
      "Epoch 54/100\n",
      "552/552 [==============================] - 0s 190us/step - loss: 0.4660 - accuracy: 0.7699 - val_loss: 0.5080 - val_accuracy: 0.7742\n",
      "Epoch 55/100\n",
      "552/552 [==============================] - 0s 170us/step - loss: 0.4613 - accuracy: 0.7917 - val_loss: 0.5349 - val_accuracy: 0.7419\n",
      "Epoch 56/100\n",
      "552/552 [==============================] - 0s 179us/step - loss: 0.4933 - accuracy: 0.7536 - val_loss: 0.4874 - val_accuracy: 0.7903\n"
     ]
    },
    {
     "name": "stdout",
     "output_type": "stream",
     "text": [
      "Epoch 57/100\n",
      "552/552 [==============================] - 0s 179us/step - loss: 0.5014 - accuracy: 0.7609 - val_loss: 0.4780 - val_accuracy: 0.7419\n",
      "Epoch 58/100\n",
      "552/552 [==============================] - 0s 187us/step - loss: 0.4657 - accuracy: 0.7772 - val_loss: 0.5032 - val_accuracy: 0.7097\n",
      "Epoch 59/100\n",
      "552/552 [==============================] - 0s 192us/step - loss: 0.4730 - accuracy: 0.7790 - val_loss: 0.4969 - val_accuracy: 0.7742\n",
      "Epoch 60/100\n",
      "552/552 [==============================] - 0s 173us/step - loss: 0.4703 - accuracy: 0.7808 - val_loss: 0.4810 - val_accuracy: 0.8065\n",
      "Epoch 61/100\n",
      "552/552 [==============================] - 0s 146us/step - loss: 0.4669 - accuracy: 0.7790 - val_loss: 0.4832 - val_accuracy: 0.7742\n",
      "Epoch 62/100\n",
      "552/552 [==============================] - 0s 213us/step - loss: 0.4459 - accuracy: 0.8043 - val_loss: 0.4854 - val_accuracy: 0.7742\n",
      "Epoch 63/100\n",
      "552/552 [==============================] - 0s 197us/step - loss: 0.4563 - accuracy: 0.7699 - val_loss: 0.4964 - val_accuracy: 0.7903\n",
      "Epoch 64/100\n",
      "552/552 [==============================] - 0s 188us/step - loss: 0.4395 - accuracy: 0.7971 - val_loss: 0.5095 - val_accuracy: 0.7581\n",
      "Epoch 65/100\n",
      "552/552 [==============================] - 0s 172us/step - loss: 0.4681 - accuracy: 0.7826 - val_loss: 0.5060 - val_accuracy: 0.7742\n",
      "Epoch 66/100\n",
      "552/552 [==============================] - 0s 199us/step - loss: 0.4395 - accuracy: 0.7971 - val_loss: 0.4726 - val_accuracy: 0.8065\n",
      "Epoch 67/100\n",
      "552/552 [==============================] - 0s 186us/step - loss: 0.4739 - accuracy: 0.7790 - val_loss: 0.4838 - val_accuracy: 0.7581\n",
      "Epoch 68/100\n",
      "552/552 [==============================] - 0s 202us/step - loss: 0.4499 - accuracy: 0.7953 - val_loss: 0.4834 - val_accuracy: 0.7903\n",
      "Epoch 69/100\n",
      "552/552 [==============================] - 0s 193us/step - loss: 0.4435 - accuracy: 0.7862 - val_loss: 0.4961 - val_accuracy: 0.8065\n",
      "Epoch 70/100\n",
      "552/552 [==============================] - 0s 188us/step - loss: 0.4340 - accuracy: 0.7935 - val_loss: 0.4884 - val_accuracy: 0.8065\n",
      "Epoch 71/100\n",
      "552/552 [==============================] - 0s 166us/step - loss: 0.4413 - accuracy: 0.7844 - val_loss: 0.4940 - val_accuracy: 0.7903\n",
      "Epoch 72/100\n",
      "552/552 [==============================] - 0s 155us/step - loss: 0.4420 - accuracy: 0.7917 - val_loss: 0.5177 - val_accuracy: 0.7581\n",
      "Epoch 73/100\n",
      "552/552 [==============================] - 0s 170us/step - loss: 0.4583 - accuracy: 0.7736 - val_loss: 0.4865 - val_accuracy: 0.8065\n",
      "Epoch 74/100\n",
      "552/552 [==============================] - 0s 182us/step - loss: 0.4591 - accuracy: 0.7790 - val_loss: 0.4936 - val_accuracy: 0.8226\n",
      "Epoch 75/100\n",
      "552/552 [==============================] - 0s 191us/step - loss: 0.4511 - accuracy: 0.7862 - val_loss: 0.5274 - val_accuracy: 0.7581\n",
      "Epoch 76/100\n",
      "552/552 [==============================] - 0s 153us/step - loss: 0.4473 - accuracy: 0.7917 - val_loss: 0.4908 - val_accuracy: 0.7742\n",
      "Epoch 77/100\n",
      "552/552 [==============================] - 0s 217us/step - loss: 0.4698 - accuracy: 0.7681 - val_loss: 0.4919 - val_accuracy: 0.7903\n",
      "Epoch 78/100\n",
      "552/552 [==============================] - 0s 195us/step - loss: 0.4470 - accuracy: 0.7772 - val_loss: 0.5050 - val_accuracy: 0.7581\n",
      "Epoch 79/100\n",
      "552/552 [==============================] - 0s 173us/step - loss: 0.4633 - accuracy: 0.7880 - val_loss: 0.4835 - val_accuracy: 0.7903\n",
      "Epoch 80/100\n",
      "552/552 [==============================] - 0s 159us/step - loss: 0.4436 - accuracy: 0.7917 - val_loss: 0.4929 - val_accuracy: 0.7581\n",
      "Epoch 81/100\n",
      "552/552 [==============================] - 0s 175us/step - loss: 0.4591 - accuracy: 0.7899 - val_loss: 0.4797 - val_accuracy: 0.8065\n",
      "Epoch 82/100\n",
      "552/552 [==============================] - 0s 173us/step - loss: 0.4451 - accuracy: 0.7681 - val_loss: 0.5487 - val_accuracy: 0.7097\n",
      "Epoch 83/100\n",
      "552/552 [==============================] - 0s 186us/step - loss: 0.4424 - accuracy: 0.7663 - val_loss: 0.4922 - val_accuracy: 0.7903\n",
      "Epoch 84/100\n",
      "552/552 [==============================] - 0s 145us/step - loss: 0.4259 - accuracy: 0.8062 - val_loss: 0.5149 - val_accuracy: 0.7581\n",
      "Epoch 85/100\n",
      "552/552 [==============================] - 0s 217us/step - loss: 0.4487 - accuracy: 0.7826 - val_loss: 0.5060 - val_accuracy: 0.7419\n",
      "Epoch 86/100\n",
      "552/552 [==============================] - 0s 146us/step - loss: 0.4472 - accuracy: 0.7754 - val_loss: 0.4740 - val_accuracy: 0.8065\n",
      "Epoch 87/100\n",
      "552/552 [==============================] - 0s 201us/step - loss: 0.4347 - accuracy: 0.7971 - val_loss: 0.5081 - val_accuracy: 0.7419\n",
      "Epoch 88/100\n",
      "552/552 [==============================] - 0s 166us/step - loss: 0.4553 - accuracy: 0.7790 - val_loss: 0.5222 - val_accuracy: 0.7581\n",
      "Epoch 89/100\n",
      "552/552 [==============================] - 0s 191us/step - loss: 0.4310 - accuracy: 0.8043 - val_loss: 0.4973 - val_accuracy: 0.7419\n",
      "Epoch 90/100\n",
      "552/552 [==============================] - 0s 204us/step - loss: 0.4189 - accuracy: 0.7880 - val_loss: 0.5344 - val_accuracy: 0.7581\n",
      "Epoch 91/100\n",
      "552/552 [==============================] - 0s 163us/step - loss: 0.4353 - accuracy: 0.7826 - val_loss: 0.5096 - val_accuracy: 0.7742\n",
      "Epoch 92/100\n",
      "552/552 [==============================] - 0s 204us/step - loss: 0.4516 - accuracy: 0.7772 - val_loss: 0.4969 - val_accuracy: 0.7742\n",
      "Epoch 93/100\n",
      "552/552 [==============================] - 0s 177us/step - loss: 0.4683 - accuracy: 0.7627 - val_loss: 0.5180 - val_accuracy: 0.7903\n",
      "Epoch 94/100\n",
      "552/552 [==============================] - 0s 164us/step - loss: 0.4478 - accuracy: 0.7880 - val_loss: 0.4935 - val_accuracy: 0.7742\n",
      "Epoch 95/100\n",
      "552/552 [==============================] - 0s 165us/step - loss: 0.4334 - accuracy: 0.8025 - val_loss: 0.4970 - val_accuracy: 0.7742\n",
      "Epoch 96/100\n",
      "552/552 [==============================] - 0s 197us/step - loss: 0.4543 - accuracy: 0.7808 - val_loss: 0.5490 - val_accuracy: 0.6935\n",
      "Epoch 97/100\n",
      "552/552 [==============================] - 0s 188us/step - loss: 0.4672 - accuracy: 0.7862 - val_loss: 0.4918 - val_accuracy: 0.7581\n",
      "Epoch 98/100\n",
      "552/552 [==============================] - 0s 161us/step - loss: 0.4447 - accuracy: 0.7844 - val_loss: 0.5027 - val_accuracy: 0.7419\n",
      "Epoch 99/100\n",
      "552/552 [==============================] - 0s 181us/step - loss: 0.4524 - accuracy: 0.7899 - val_loss: 0.5179 - val_accuracy: 0.7419\n",
      "Epoch 100/100\n",
      "552/552 [==============================] - 0s 188us/step - loss: 0.4515 - accuracy: 0.7754 - val_loss: 0.4966 - val_accuracy: 0.7581\n"
     ]
    }
   ],
   "source": [
    "_ = diabetes_NN.fit(X_train, y_train, batch_size = 10, epochs = 100, validation_split=0.1)"
   ]
  },
  {
   "cell_type": "markdown",
   "metadata": {},
   "source": [
    "<div style=\"direction:rtl;line-height:300%;text-align:justify;\">\n",
    "\t<font face=\"B Zar\", size=5px>\n",
    "        همانطور که مشاهده می‌شود، دقت مدل آموزش داده شده توسط شبکه عصبی نیز آن‌چنان بیشتر از درخت تصمیم پیاده‌سازی شده نیست.\n",
    "    </font>\n",
    "</div>"
   ]
  },
  {
   "cell_type": "code",
   "execution_count": 57,
   "metadata": {
    "colab": {
     "base_uri": "https://localhost:8080/",
     "height": 34
    },
    "colab_type": "code",
    "id": "AuRpfL1k2v41",
    "outputId": "c352d1be-c559-416a-d5e2-7f98d6d6ae09"
   },
   "outputs": [
    {
     "data": {
      "text/plain": [
       "'train accuracy: 0.8045602605863192'"
      ]
     },
     "execution_count": 57,
     "metadata": {},
     "output_type": "execute_result"
    }
   ],
   "source": [
    "train_prediction = diabetes_NN.predict(X_train)\n",
    "train_prediction = (train_prediction.reshape((len(train_prediction),)) > 0.5)\n",
    "f'train accuracy: {calculate_accuracy(train_prediction, y_train)}'"
   ]
  },
  {
   "cell_type": "code",
   "execution_count": 58,
   "metadata": {
    "colab": {
     "base_uri": "https://localhost:8080/",
     "height": 34
    },
    "colab_type": "code",
    "id": "QimWn5p83HP1",
    "outputId": "203f70c2-8302-4a9c-d6bf-b65a7128702f"
   },
   "outputs": [
    {
     "data": {
      "text/plain": [
       "'test accuracy: 0.7727272727272727'"
      ]
     },
     "execution_count": 58,
     "metadata": {},
     "output_type": "execute_result"
    }
   ],
   "source": [
    "test_prediction = diabetes_NN.predict(X_test)\n",
    "test_prediction = (test_prediction.reshape((len(test_prediction),)) > 0.5)\n",
    "f'test accuracy: {calculate_accuracy(test_prediction, y_test)}'"
   ]
  },
  {
   "cell_type": "markdown",
   "metadata": {},
   "source": [
    "<div style=\"direction:rtl;line-height:300%;text-align:justify;\">\n",
    "\t<font face=\"B Zar\", size=5px>\n",
    "        برای ارزیابی بیشتر الگوریتم پیاده‌سازی شده، درخت تصمیم را روی یک داده‌ی دیگر نیز آزمایش کردم.\n",
    "        این داده مربوط به تشخیص خوش‌خیم یا بدخیم بودن سرطان سینه است که از کتابخانه‌ی sci-kit learn\n",
    "        بارگیری شده است. این مجموعه داده، شامل ۵۶۹ نمونه، و ۳۰ feature\n",
    "        است.\n",
    "    </font>\n",
    "</div>"
   ]
  },
  {
   "cell_type": "code",
   "execution_count": 59,
   "metadata": {
    "colab": {
     "base_uri": "https://localhost:8080/",
     "height": 258
    },
    "colab_type": "code",
    "id": "5rdsvOFN0r52",
    "outputId": "27dc7796-ad1f-44ec-8e7e-01d9d1a3cbe3"
   },
   "outputs": [
    {
     "name": "stdout",
     "output_type": "stream",
     "text": [
      "(569, 30)\n"
     ]
    },
    {
     "data": {
      "text/html": [
       "<div>\n",
       "<style scoped>\n",
       "    .dataframe tbody tr th:only-of-type {\n",
       "        vertical-align: middle;\n",
       "    }\n",
       "\n",
       "    .dataframe tbody tr th {\n",
       "        vertical-align: top;\n",
       "    }\n",
       "\n",
       "    .dataframe thead th {\n",
       "        text-align: right;\n",
       "    }\n",
       "</style>\n",
       "<table border=\"1\" class=\"dataframe\">\n",
       "  <thead>\n",
       "    <tr style=\"text-align: right;\">\n",
       "      <th></th>\n",
       "      <th>mean radius</th>\n",
       "      <th>mean texture</th>\n",
       "      <th>mean perimeter</th>\n",
       "      <th>mean area</th>\n",
       "      <th>mean smoothness</th>\n",
       "      <th>mean compactness</th>\n",
       "      <th>mean concavity</th>\n",
       "      <th>mean concave points</th>\n",
       "      <th>mean symmetry</th>\n",
       "      <th>mean fractal dimension</th>\n",
       "      <th>...</th>\n",
       "      <th>worst radius</th>\n",
       "      <th>worst texture</th>\n",
       "      <th>worst perimeter</th>\n",
       "      <th>worst area</th>\n",
       "      <th>worst smoothness</th>\n",
       "      <th>worst compactness</th>\n",
       "      <th>worst concavity</th>\n",
       "      <th>worst concave points</th>\n",
       "      <th>worst symmetry</th>\n",
       "      <th>worst fractal dimension</th>\n",
       "    </tr>\n",
       "  </thead>\n",
       "  <tbody>\n",
       "    <tr>\n",
       "      <td>0</td>\n",
       "      <td>17.99</td>\n",
       "      <td>10.38</td>\n",
       "      <td>122.80</td>\n",
       "      <td>1001.0</td>\n",
       "      <td>0.11840</td>\n",
       "      <td>0.27760</td>\n",
       "      <td>0.3001</td>\n",
       "      <td>0.14710</td>\n",
       "      <td>0.2419</td>\n",
       "      <td>0.07871</td>\n",
       "      <td>...</td>\n",
       "      <td>25.38</td>\n",
       "      <td>17.33</td>\n",
       "      <td>184.60</td>\n",
       "      <td>2019.0</td>\n",
       "      <td>0.1622</td>\n",
       "      <td>0.6656</td>\n",
       "      <td>0.7119</td>\n",
       "      <td>0.2654</td>\n",
       "      <td>0.4601</td>\n",
       "      <td>0.11890</td>\n",
       "    </tr>\n",
       "    <tr>\n",
       "      <td>1</td>\n",
       "      <td>20.57</td>\n",
       "      <td>17.77</td>\n",
       "      <td>132.90</td>\n",
       "      <td>1326.0</td>\n",
       "      <td>0.08474</td>\n",
       "      <td>0.07864</td>\n",
       "      <td>0.0869</td>\n",
       "      <td>0.07017</td>\n",
       "      <td>0.1812</td>\n",
       "      <td>0.05667</td>\n",
       "      <td>...</td>\n",
       "      <td>24.99</td>\n",
       "      <td>23.41</td>\n",
       "      <td>158.80</td>\n",
       "      <td>1956.0</td>\n",
       "      <td>0.1238</td>\n",
       "      <td>0.1866</td>\n",
       "      <td>0.2416</td>\n",
       "      <td>0.1860</td>\n",
       "      <td>0.2750</td>\n",
       "      <td>0.08902</td>\n",
       "    </tr>\n",
       "    <tr>\n",
       "      <td>2</td>\n",
       "      <td>19.69</td>\n",
       "      <td>21.25</td>\n",
       "      <td>130.00</td>\n",
       "      <td>1203.0</td>\n",
       "      <td>0.10960</td>\n",
       "      <td>0.15990</td>\n",
       "      <td>0.1974</td>\n",
       "      <td>0.12790</td>\n",
       "      <td>0.2069</td>\n",
       "      <td>0.05999</td>\n",
       "      <td>...</td>\n",
       "      <td>23.57</td>\n",
       "      <td>25.53</td>\n",
       "      <td>152.50</td>\n",
       "      <td>1709.0</td>\n",
       "      <td>0.1444</td>\n",
       "      <td>0.4245</td>\n",
       "      <td>0.4504</td>\n",
       "      <td>0.2430</td>\n",
       "      <td>0.3613</td>\n",
       "      <td>0.08758</td>\n",
       "    </tr>\n",
       "    <tr>\n",
       "      <td>3</td>\n",
       "      <td>11.42</td>\n",
       "      <td>20.38</td>\n",
       "      <td>77.58</td>\n",
       "      <td>386.1</td>\n",
       "      <td>0.14250</td>\n",
       "      <td>0.28390</td>\n",
       "      <td>0.2414</td>\n",
       "      <td>0.10520</td>\n",
       "      <td>0.2597</td>\n",
       "      <td>0.09744</td>\n",
       "      <td>...</td>\n",
       "      <td>14.91</td>\n",
       "      <td>26.50</td>\n",
       "      <td>98.87</td>\n",
       "      <td>567.7</td>\n",
       "      <td>0.2098</td>\n",
       "      <td>0.8663</td>\n",
       "      <td>0.6869</td>\n",
       "      <td>0.2575</td>\n",
       "      <td>0.6638</td>\n",
       "      <td>0.17300</td>\n",
       "    </tr>\n",
       "    <tr>\n",
       "      <td>4</td>\n",
       "      <td>20.29</td>\n",
       "      <td>14.34</td>\n",
       "      <td>135.10</td>\n",
       "      <td>1297.0</td>\n",
       "      <td>0.10030</td>\n",
       "      <td>0.13280</td>\n",
       "      <td>0.1980</td>\n",
       "      <td>0.10430</td>\n",
       "      <td>0.1809</td>\n",
       "      <td>0.05883</td>\n",
       "      <td>...</td>\n",
       "      <td>22.54</td>\n",
       "      <td>16.67</td>\n",
       "      <td>152.20</td>\n",
       "      <td>1575.0</td>\n",
       "      <td>0.1374</td>\n",
       "      <td>0.2050</td>\n",
       "      <td>0.4000</td>\n",
       "      <td>0.1625</td>\n",
       "      <td>0.2364</td>\n",
       "      <td>0.07678</td>\n",
       "    </tr>\n",
       "  </tbody>\n",
       "</table>\n",
       "<p>5 rows × 30 columns</p>\n",
       "</div>"
      ],
      "text/plain": [
       "   mean radius  mean texture  mean perimeter  mean area  mean smoothness  \\\n",
       "0        17.99         10.38          122.80     1001.0          0.11840   \n",
       "1        20.57         17.77          132.90     1326.0          0.08474   \n",
       "2        19.69         21.25          130.00     1203.0          0.10960   \n",
       "3        11.42         20.38           77.58      386.1          0.14250   \n",
       "4        20.29         14.34          135.10     1297.0          0.10030   \n",
       "\n",
       "   mean compactness  mean concavity  mean concave points  mean symmetry  \\\n",
       "0           0.27760          0.3001              0.14710         0.2419   \n",
       "1           0.07864          0.0869              0.07017         0.1812   \n",
       "2           0.15990          0.1974              0.12790         0.2069   \n",
       "3           0.28390          0.2414              0.10520         0.2597   \n",
       "4           0.13280          0.1980              0.10430         0.1809   \n",
       "\n",
       "   mean fractal dimension  ...  worst radius  worst texture  worst perimeter  \\\n",
       "0                 0.07871  ...         25.38          17.33           184.60   \n",
       "1                 0.05667  ...         24.99          23.41           158.80   \n",
       "2                 0.05999  ...         23.57          25.53           152.50   \n",
       "3                 0.09744  ...         14.91          26.50            98.87   \n",
       "4                 0.05883  ...         22.54          16.67           152.20   \n",
       "\n",
       "   worst area  worst smoothness  worst compactness  worst concavity  \\\n",
       "0      2019.0            0.1622             0.6656           0.7119   \n",
       "1      1956.0            0.1238             0.1866           0.2416   \n",
       "2      1709.0            0.1444             0.4245           0.4504   \n",
       "3       567.7            0.2098             0.8663           0.6869   \n",
       "4      1575.0            0.1374             0.2050           0.4000   \n",
       "\n",
       "   worst concave points  worst symmetry  worst fractal dimension  \n",
       "0                0.2654          0.4601                  0.11890  \n",
       "1                0.1860          0.2750                  0.08902  \n",
       "2                0.2430          0.3613                  0.08758  \n",
       "3                0.2575          0.6638                  0.17300  \n",
       "4                0.1625          0.2364                  0.07678  \n",
       "\n",
       "[5 rows x 30 columns]"
      ]
     },
     "execution_count": 59,
     "metadata": {},
     "output_type": "execute_result"
    }
   ],
   "source": [
    "from sklearn.datasets import load_breast_cancer\n",
    "cancer = load_breast_cancer()\n",
    "cancer_X = pd.DataFrame(cancer.data, columns=cancer.feature_names)\n",
    "cancer_y = pd.Series(cancer.target)\n",
    "print(cancer_X.shape)\n",
    "cancer_X.head()"
   ]
  },
  {
   "cell_type": "code",
   "execution_count": 60,
   "metadata": {
    "colab": {
     "base_uri": "https://localhost:8080/",
     "height": 527
    },
    "colab_type": "code",
    "id": "9TshKCRiHc2e",
    "outputId": "34d138c4-f878-4580-f3e1-a119368c1ff2"
   },
   "outputs": [
    {
     "data": {
      "text/plain": [
       "{'mean radius': 'continuous',\n",
       " 'mean texture': 'continuous',\n",
       " 'mean perimeter': 'continuous',\n",
       " 'mean area': 'continuous',\n",
       " 'mean smoothness': 'continuous',\n",
       " 'mean compactness': 'continuous',\n",
       " 'mean concavity': 'continuous',\n",
       " 'mean concave points': 'continuous',\n",
       " 'mean symmetry': 'continuous',\n",
       " 'mean fractal dimension': 'continuous',\n",
       " 'radius error': 'continuous',\n",
       " 'texture error': 'continuous',\n",
       " 'perimeter error': 'continuous',\n",
       " 'area error': 'continuous',\n",
       " 'smoothness error': 'continuous',\n",
       " 'compactness error': 'continuous',\n",
       " 'concavity error': 'continuous',\n",
       " 'concave points error': 'continuous',\n",
       " 'symmetry error': 'continuous',\n",
       " 'fractal dimension error': 'continuous',\n",
       " 'worst radius': 'continuous',\n",
       " 'worst texture': 'continuous',\n",
       " 'worst perimeter': 'continuous',\n",
       " 'worst area': 'continuous',\n",
       " 'worst smoothness': 'continuous',\n",
       " 'worst compactness': 'continuous',\n",
       " 'worst concavity': 'continuous',\n",
       " 'worst concave points': 'continuous',\n",
       " 'worst symmetry': 'continuous',\n",
       " 'worst fractal dimension': 'continuous'}"
      ]
     },
     "execution_count": 60,
     "metadata": {},
     "output_type": "execute_result"
    }
   ],
   "source": [
    "cancer_feature_types = {feature: continuous for feature in cancer.feature_names}\n",
    "cancer_feature_types"
   ]
  },
  {
   "cell_type": "code",
   "execution_count": 61,
   "metadata": {
    "colab": {},
    "colab_type": "code",
    "id": "WcAYF3QUGN3e"
   },
   "outputs": [],
   "source": [
    "X_train, X_test, y_train, y_test = train_test_split(cancer_X, cancer_y, test_size=0.2)"
   ]
  },
  {
   "cell_type": "code",
   "execution_count": 62,
   "metadata": {
    "colab": {},
    "colab_type": "code",
    "id": "_qoJJSNMHOLs"
   },
   "outputs": [],
   "source": [
    "cancer_classifier = DecisionTreeBinaryClassifier()"
   ]
  },
  {
   "cell_type": "code",
   "execution_count": 64,
   "metadata": {
    "colab": {
     "base_uri": "https://localhost:8080/",
     "height": 34
    },
    "colab_type": "code",
    "id": "ccXUFnYLHUg6",
    "outputId": "2818ecf7-e3f3-4c5a-be86-dd1e9e389b7e"
   },
   "outputs": [
    {
     "data": {
      "text/plain": [
       "{\n",
       "    \"Feature\": \"worst area\",\n",
       "    \"Information gain\": 0.5710364609604932,\n",
       "    \"Entropy\": 0.9517626756348311,\n",
       "    \"Children\": {\n",
       "        \"-inf-874.85\": {\n",
       "            \"Feature\": \"worst concave points\",\n",
       "            \"Information gain\": 0.1626179789602885,\n",
       "            \"Entropy\": 0.4213582670988372,\n",
       "            \"Children\": {\n",
       "                \"-inf-0.131\": {\n",
       "                    \"Feature\": \"area error\",\n",
       "                    \"Information gain\": 0.03221869686929066,\n",
       "                    \"Entropy\": 0.1366813204226173,\n",
       "                    \"Children\": {\n",
       "                        \"-inf-38.415000000000006\": {\n",
       "                            \"Feature\": \"worst texture\",\n",
       "                            \"Information gain\": 0.023119479722836712,\n",
       "                            \"Entropy\": 0.06789640139994144,\n",
       "                            \"Children\": {\n",
       "                                \"-inf-30.08\": 1,\n",
       "                                \"30.08-inf\": {\n",
       "                                    \"Feature\": \"texture error\",\n",
       "                                    \"Information gain\": 0.1300333997303511,\n",
       "                                    \"Entropy\": 0.31599713297842474,\n",
       "                                    \"Children\": {\n",
       "                                        \"-inf-0.82725\": 0,\n",
       "                                        \"0.82725-inf\": {\n",
       "                                            \"Feature\": \"compactness error\",\n",
       "                                            \"Information gain\": 0.0635357387672296,\n",
       "                                            \"Entropy\": 0.19143325481419346,\n",
       "                                            \"Children\": {\n",
       "                                                \"-inf-0.012025000000000001\": 1,\n",
       "                                                \"0.012025000000000001-inf\": 1\n",
       "                                            }\n",
       "                                        }\n",
       "                                    }\n",
       "                                }\n",
       "                            }\n",
       "                        },\n",
       "                        \"38.415000000000006-inf\": 1\n",
       "                    }\n",
       "                },\n",
       "                \"0.131-inf\": 1\n",
       "            }\n",
       "        },\n",
       "        \"874.85-inf\": 0\n",
       "    }\n",
       "}"
      ]
     },
     "execution_count": 64,
     "metadata": {},
     "output_type": "execute_result"
    }
   ],
   "source": [
    "cancer_classifier.fit(X_train, y_train, cancer_feature_types)"
   ]
  },
  {
   "cell_type": "code",
   "execution_count": 65,
   "metadata": {
    "colab": {
     "base_uri": "https://localhost:8080/",
     "height": 1000
    },
    "colab_type": "code",
    "id": "wgyJnwEGg7f5",
    "outputId": "cc53df66-e17e-41d0-d7bd-212744424424"
   },
   "outputs": [
    {
     "data": {
      "text/plain": [
       "6"
      ]
     },
     "execution_count": 65,
     "metadata": {},
     "output_type": "execute_result"
    }
   ],
   "source": [
    "cancer_classifier.height"
   ]
  },
  {
   "cell_type": "markdown",
   "metadata": {},
   "source": [
    "<div style=\"direction:rtl;line-height:300%;text-align:justify;\">\n",
    "\t<font face=\"B Zar\", size=5px>\n",
    "        در این مثال، مشاهده می‌شود که مقدار دقت، بسیار بیشتر از داده‌های دیابت است، و این، مسئله‌ی وجود نقص در داده‌ی دیابت را قوی‌تر می‌کند.\n",
    "    </font>\n",
    "</div>"
   ]
  },
  {
   "cell_type": "code",
   "execution_count": 66,
   "metadata": {
    "colab": {
     "base_uri": "https://localhost:8080/",
     "height": 34
    },
    "colab_type": "code",
    "id": "W7ZDysDPHtBL",
    "outputId": "07dbc7fd-1340-49b6-e865-4fb2843f5406"
   },
   "outputs": [
    {
     "data": {
      "text/plain": [
       "'train accuracy: 0.9274725274725275'"
      ]
     },
     "execution_count": 66,
     "metadata": {},
     "output_type": "execute_result"
    }
   ],
   "source": [
    "train_prediction = cancer_classifier.predict(X_train)\n",
    "f'train accuracy: {calculate_accuracy(train_prediction, y_train)}'"
   ]
  },
  {
   "cell_type": "code",
   "execution_count": 67,
   "metadata": {
    "colab": {
     "base_uri": "https://localhost:8080/",
     "height": 34
    },
    "colab_type": "code",
    "id": "2RPBOOgBH-99",
    "outputId": "f7399540-113d-42cc-f1e2-0474a67186b6"
   },
   "outputs": [
    {
     "data": {
      "text/plain": [
       "'train accuracy: 0.9035087719298246'"
      ]
     },
     "execution_count": 67,
     "metadata": {},
     "output_type": "execute_result"
    }
   ],
   "source": [
    "test_prediction = cancer_classifier.predict(X_test)\n",
    "f'train accuracy: {calculate_accuracy(test_prediction, y_test)}'"
   ]
  },
  {
   "cell_type": "markdown",
   "metadata": {},
   "source": [
    "<div style=\"direction:rtl;line-height:300%;text-align:justify;\">\n",
    "\t<font face=\"B Zar\", size=5px>\n",
    "        در نتیجه‌ی آزمایش‌های انجام شده، بنظرم اگر قبل از آموزش مدل، باید داده‌ها را حتما تمیزکاری کرد.\n",
    "        <br>\n",
    "        برای جلوگیری از overfitting،\n",
    "        عمق درخت را محدود کردم، و تا حد خیلی خوبی جواب داد.\n",
    "    </font>\n",
    "</div>"
   ]
  }
 ],
 "metadata": {
  "accelerator": "TPU",
  "colab": {
   "collapsed_sections": [],
   "name": "AI_Impementation_2",
   "provenance": []
  },
  "kernelspec": {
   "display_name": "Python 3",
   "language": "python",
   "name": "python3"
  },
  "language_info": {
   "codemirror_mode": {
    "name": "ipython",
    "version": 3
   },
   "file_extension": ".py",
   "mimetype": "text/x-python",
   "name": "python",
   "nbconvert_exporter": "python",
   "pygments_lexer": "ipython3",
   "version": "3.7.4"
  }
 },
 "nbformat": 4,
 "nbformat_minor": 1
}
