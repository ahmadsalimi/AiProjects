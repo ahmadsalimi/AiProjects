{
 "cells": [
  {
   "cell_type": "markdown",
   "metadata": {},
   "source": [
    "<div style=\"direction:rtl;line-height:500%;text-align:justify;\">\n",
    "\t<font face=\"B Zar\", size=5px>\n",
    "        <h2>هوش مصنوعی، پروژه MLP، تخمین خروجی تابع</h2>\n",
    "        احمد سلیمی - ۹۷۱۰۶۰۱۳\n",
    "    </font>\n",
    "</div>"
   ]
  }
 ],
 "metadata": {
  "kernelspec": {
   "display_name": "Python 3",
   "language": "python",
   "name": "python3"
  },
  "language_info": {
   "codemirror_mode": {
    "name": "ipython",
    "version": 3
   },
   "file_extension": ".py",
   "mimetype": "text/x-python",
   "name": "python",
   "nbconvert_exporter": "python",
   "pygments_lexer": "ipython3",
   "version": "3.7.4"
  }
 },
 "nbformat": 4,
 "nbformat_minor": 2
}
