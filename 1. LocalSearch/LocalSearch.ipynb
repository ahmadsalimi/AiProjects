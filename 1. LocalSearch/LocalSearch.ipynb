{
 "cells": [
  {
   "cell_type": "markdown",
   "metadata": {
    "colab_type": "text",
    "id": "uqqB47A_RlC6"
   },
   "source": [
    "## Local Search Algorithms - Hill Climbing and Simulated Annealing\n",
    "### Solving n equations with m unknowns (m > n)"
   ]
  },
  {
   "cell_type": "code",
   "execution_count": 1,
   "metadata": {
    "colab": {},
    "colab_type": "code",
    "id": "S84zj2ZofYEU"
   },
   "outputs": [],
   "source": [
    "import numpy as np\n",
    "import pandas as pd\n",
    "import matplotlib.pyplot as plt\n",
    "import sys\n",
    "from math import exp, log\n",
    "import random"
   ]
  },
  {
   "cell_type": "markdown",
   "metadata": {
    "colab_type": "text",
    "id": "A73aW1KVlnez"
   },
   "source": [
    "### `class Answer`\n",
    "Keeps a answer vector and its MSE value."
   ]
  },
  {
   "cell_type": "code",
   "execution_count": 2,
   "metadata": {
    "colab": {},
    "colab_type": "code",
    "id": "Iv5mmb-5qAfs"
   },
   "outputs": [],
   "source": [
    "class Answer:\n",
    "\n",
    "    def __init__(self, vector=None, MSE=float('inf')):\n",
    "        self.vector = vector\n",
    "        self.MSE = MSE\n",
    "    \n",
    "    def __lt__(self, other):\n",
    "        return self.MSE < other.MSE\n",
    "  \n",
    "    def __repr__(self):\n",
    "        return f'MSE: {self.MSE}\\nanswer vector:\\n{self.vector}'"
   ]
  },
  {
   "cell_type": "markdown",
   "metadata": {
    "colab_type": "text",
    "id": "6Ayl5pKil_yZ"
   },
   "source": [
    "### `class AnswerProgress`\n",
    "Responsible for keeping the status of the answer during the execution of the algorithm, and finally drawing the data as a graph."
   ]
  },
  {
   "cell_type": "code",
   "execution_count": 3,
   "metadata": {
    "colab": {},
    "colab_type": "code",
    "id": "zr2Bw-Np3ckV"
   },
   "outputs": [],
   "source": [
    "class AnswerProgress:\n",
    "\n",
    "    def __init__(self, *parameters):\n",
    "        self.data = {parameter:[] for parameter in parameters}\n",
    "  \n",
    "    def add_row(self, row):\n",
    "        for parameter in self.data:\n",
    "          self.data[parameter].append(row[parameter])\n",
    "\n",
    "    def plot(self, x, y, invert=False, ylim = None):\n",
    "        plt.close()\n",
    "        plt.figure(figsize=(15, 10))\n",
    "        if invert:\n",
    "            plt.axes().set_xlim(max(self.data[x]), min(self.data[x]))\n",
    "        \n",
    "        if ylim:\n",
    "            plt.ylim(ylim)\n",
    "        \n",
    "        plt.xlabel(x)\n",
    "        plt.ylabel(y)\n",
    "        plt.plot(self.data[x], self.data[y])\n",
    "        plt.show()"
   ]
  },
  {
   "cell_type": "markdown",
   "metadata": {
    "colab_type": "text",
    "id": "6Ayl5pKil_yZ"
   },
   "source": [
    "### `class EquationSystem`\n",
    "Keeps information of an equation system"
   ]
  },
  {
   "cell_type": "code",
   "execution_count": 4,
   "metadata": {
    "colab": {},
    "colab_type": "code",
    "id": "8G64SFeaI8Gy"
   },
   "outputs": [],
   "source": [
    "class EquationSystem:\n",
    "\n",
    "    def __init__(self):\n",
    "        self.coefficients_matrix = None\n",
    "        self.rhs_vector = None\n",
    "        self.current_answer = Answer()\n",
    "        self.best_answer = Answer()\n",
    "        self.n = 0\n",
    "  \n",
    "    def read_from_csv(self, path):\n",
    "        equation_table = pd.read_csv(path, header=None)\n",
    "\n",
    "        self.n = len(equation_table.columns) - 1\n",
    "        print(f\"n = {self.n}\")\n",
    "\n",
    "        self.coefficients_matrix = equation_table.drop([self.n], axis=1).values\n",
    "        self.rhs_vector = equation_table[[self.n]].values\n",
    "\n",
    "        return equation_table\n",
    "\n",
    "    def generate_random_answer_vector(self, min_range, max_range):\n",
    "        return np.array([np.random.uniform(min_range, max_range, self.n)]).T\n",
    "  \n",
    "    def calculate_rhs_vector(self, answer_vector):\n",
    "        return np.dot(self.coefficients_matrix, answer_vector)\n",
    "  \n",
    "    def calculate_MSE(self, answer_vector):\n",
    "        return ((self.rhs_vector - self.calculate_rhs_vector(answer_vector))**2).mean(axis=0)[0]\n",
    "  \n",
    "    def reset(self):\n",
    "        self.best_answer = Answer()\n",
    "    \n",
    "    def random_initialize(self, min_range, max_range):\n",
    "        vector = self.generate_random_answer_vector(min_range, max_range)\n",
    "        self.current_answer = Answer(vector, self.calculate_MSE(vector))\n",
    "  \n",
    "    def set_answer(self, answer):\n",
    "        self.current_answer = answer\n",
    "        self.best_answer = min(self.current_answer, self.best_answer)\n",
    "  \n",
    "    def generate_neighbour(self, index, change):\n",
    "        neighbour = np.copy(self.current_answer.vector)\n",
    "        neighbour[index][0] += change\n",
    "        return Answer(neighbour, self.calculate_MSE(neighbour))"
   ]
  },
  {
   "cell_type": "markdown",
   "metadata": {
    "colab_type": "text",
    "id": "6Ayl5pKil_yZ"
   },
   "source": [
    "### `class HillClimbing`\n",
    "This class implements the Hill Climbing algorithm for the given equation (`equation_system`), and by generating the initial state in the given range.\n",
    "\n",
    "The algorithm is executed by calling the `search` function and outputs the final answer.\n",
    "\n",
    "The implementation of the algorithm is that it first creates a random initial state. Then, as long as at least one of the neighbors in the current state has less MSE than the current state (the current state is not a local minimum), it selects the best neighbor as the next state.\n",
    "\n",
    "If it reaches a local minimum, it multiplies its `step` by the $\\beta$ and continues the algorithm as long as the `step` is larger or equal to `min_step`.\n",
    "\n",
    "Once the `search` function is executed, the algorithm is executed `number_of_repeats` times and returns the best answer (random restarting).\n",
    "\n",
    "The optimal values of the algorithm parameters after trial and error are as follows:\n",
    "\n",
    "$$\n",
    "Step_{start} = 1000, \\space \\beta = 0.1, \\space Step_{min} = 10^{-12}\n",
    "$$\n",
    "\n",
    "This algorithm records the `level` parameter, which means stage of running algorithm, and the MSE of that stage in AnswerProgress, and after executing the algorithm, its diagram can be seen."
   ]
  },
  {
   "cell_type": "code",
   "execution_count": 5,
   "metadata": {
    "colab": {},
    "colab_type": "code",
    "id": "pRM_o5c_mr3v"
   },
   "outputs": [],
   "source": [
    "class HillClimbing:\n",
    "\n",
    "    def __init__(self, equation_system: EquationSystem, min_range, max_range, number_of_repeats=1, starting_step=1000, beta=0.1, min_step=1e-12):\n",
    "        self.equation = equation_system\n",
    "        self.starting_step = starting_step\n",
    "        self.step = starting_step\n",
    "        self.min_step = min_step\n",
    "        self.min_range = min_range\n",
    "        self.max_range = max_range\n",
    "        self.level = 0\n",
    "        self.progress = None\n",
    "        self.number_of_repeats = number_of_repeats\n",
    "        self.beta = beta\n",
    "\n",
    "    def generate_neighbours(self):\n",
    "        for index in range(self.equation.n):\n",
    "            for change in [-self.step, self.step]:\n",
    "                yield self.equation.generate_neighbour(index, change)   \n",
    "\n",
    "    def get_best_neighbour(self):\n",
    "        neighbours = list(self.generate_neighbours())\n",
    "        return min(neighbours + [self.equation.current_answer])\n",
    "\n",
    "    def print_status(self):\n",
    "        sys.stdout.write(f\"\"\"\\rcurrent level: {self.level:6d} - current MSE: {self.equation.current_answer.MSE:<10e} - step: {self.step:<10e}\"\"\")\n",
    "        sys.stdout.flush()\n",
    "    \n",
    "    def reset(self):\n",
    "        self.equation.random_initialize(self.min_range, self.max_range)\n",
    "        self.step = self.starting_step\n",
    "\n",
    "    def search(self):\n",
    "        self.progress = AnswerProgress('level', 'MSE')\n",
    "        self.equation.reset()\n",
    "        \n",
    "        for _ in range(self.number_of_repeats):\n",
    "            self.reset()\n",
    "\n",
    "            while self.step >= self.min_step:\n",
    "                best_neighbour = self.get_best_neighbour()\n",
    "\n",
    "                if best_neighbour is self.equation.current_answer:\n",
    "                    self.step *= self.beta\n",
    "                    continue\n",
    "\n",
    "                self.equation.set_answer(best_neighbour)\n",
    "                self.progress.add_row({'level': self.level, 'MSE': self.equation.current_answer.MSE})\n",
    "\n",
    "                if self.level % 53 == 0:\n",
    "                    self.print_status()\n",
    "                self.level += 1\n",
    "\n",
    "        self.print_status()\n",
    "        print()\n",
    "        return self.equation.best_answer"
   ]
  },
  {
   "cell_type": "markdown",
   "metadata": {
    "colab_type": "text",
    "id": "6Ayl5pKil_yZ"
   },
   "source": [
    "### `class SimulatedAnnealing`\n",
    "This class implements the Simulated Annealing algorithm for the given equation (`equation_system`), and by generating the initial state in the given range.\n",
    "\n",
    "The algorithm is executed by calling the `search` function and outputs the final answer.\n",
    "\n",
    "The algorithm parameters are $T$, which means the temperature at each stage of the execution, $T_{min}$ means the lowest possible temperature, which completes execution, and alpha, which is a factor that is multiplied by the temperature at each stage and reduces its value, $Step_{start}$, which is the value of the step at the beginning of the algorithm, and $\\beta$, which each time algorithm hits a deadend, is multiplied by the step and reduces its value.\n",
    "\n",
    "The next state in the $i^{th}$ step ($C_i$) is generated as follows:\n",
    "\n",
    "First, all the neighbors are suffled. Then, when viewing the $j^{th}$ neighbor ($N_j$), if MSE is less than the current state, it will return it as the next state with probability 1. Otherwise, with the following probability, it will return the neighbor, and if it does not return it, it will go to the next neighbor.\n",
    "\n",
    "$$p = e^{\\frac{MSE(C_i) - MSE(N_j)}{T_i}}$$\n",
    "\n",
    "If none of the neighbors are selected, the `step` value is multiplied by $\\beta$ and the algorithm is resumed.\n",
    "\n",
    "The optimal values of the algorithm parameters after trial and error are as follows:\n",
    "\n",
    "$$\n",
    "Step_{start} = 1000, \\space \\beta = 0.1, \\space T_0 = 1, \\space \\alpha = 0.999, \\space T_{min} = 10^{-30}\n",
    "$$"
   ]
  },
  {
   "cell_type": "code",
   "execution_count": 7,
   "metadata": {
    "colab": {},
    "colab_type": "code",
    "id": "SiXrUelKmumI"
   },
   "outputs": [],
   "source": [
    "class SimulatedAnnealing:\n",
    "\n",
    "    def __init__(self, equation_system: EquationSystem, min_range, max_range, starting_step = 1000, beta = 0.1, t_0=1, alpha=0.999, t_min=1e-30):\n",
    "        self.equation = equation_system\n",
    "        self.step = starting_step\n",
    "        self.min_range = min_range\n",
    "        self.max_range = max_range\n",
    "        self.level = 0\n",
    "        self.t = t_0\n",
    "        self.t_min = t_min\n",
    "        self.alpha = alpha\n",
    "        self.beta = beta\n",
    "        self.neighbour_changes = None\n",
    "        self.progress = None\n",
    "  \n",
    "    def generate_all_neighbour_changes(self):\n",
    "        for index in range(self.equation.n):\n",
    "            for change in [-1, 1]:\n",
    "                yield (index, change)\n",
    "\n",
    "    def decision_probability(self, MSE):\n",
    "        return exp((self.equation.current_answer.MSE - MSE) / self.t)\n",
    "\n",
    "    def decision(self, MSE):\n",
    "        return np.random.uniform() < self.decision_probability(MSE)\n",
    "\n",
    "    def generate_next_state(self):\n",
    "        best_neighbour = self.equation.current_answer\n",
    "\n",
    "        random.shuffle(self.neighbour_changes)\n",
    "\n",
    "        for change in self.neighbour_changes:\n",
    "            neighbour = self.equation.generate_neighbour(change[0], change[1] * self.step)\n",
    "            best_neighbour = min(best_neighbour, neighbour)\n",
    "\n",
    "            if best_neighbour.MSE < self.equation.current_answer.MSE:\n",
    "                return best_neighbour\n",
    "\n",
    "            if self.decision(neighbour.MSE):\n",
    "                return neighbour\n",
    "    \n",
    "        return best_neighbour\n",
    "\n",
    "    def print_status(self):\n",
    "        sys.stdout.write(f\"\\rcurrent level: {self.level:6d} - current MSE: {self.equation.current_answer.MSE:<10e} - T: {self.t:<10e} - step: {self.step:<10e}\")\n",
    "        sys.stdout.flush()\n",
    "    \n",
    "    def reset(self):\n",
    "        self.progress = AnswerProgress('level', 'MSE', 'log(T)')\n",
    "        self.neighbour_changes = list(self.generate_all_neighbour_changes())\n",
    "        self.equation.reset()\n",
    "        self.equation.random_initialize(self.min_range, self.max_range)\n",
    "\n",
    "    def search(self):\n",
    "        self.reset()\n",
    "\n",
    "        while self.t > self.t_min:\n",
    "            next_state = self.generate_next_state()\n",
    "            if next_state is self.equation.current_answer:\n",
    "                self.step *= self.beta\n",
    "                continue\n",
    "            \n",
    "            self.equation.set_answer(next_state)\n",
    "            self.progress.add_row({'level': self.level, 'MSE': self.equation.current_answer.MSE, 'log(T)': log(self.t)})\n",
    "      \n",
    "            if self.level % 53 == 0:\n",
    "                self.print_status()\n",
    "      \n",
    "            self.level += 1\n",
    "            self.t *= self.alpha\n",
    "    \n",
    "        self.print_status()\n",
    "        print()\n",
    "        return self.equation.best_answer"
   ]
  },
  {
   "cell_type": "markdown",
   "metadata": {
    "colab_type": "text",
    "id": "6Ayl5pKil_yZ"
   },
   "source": [
    "Now let's run the algorithms."
   ]
  },
  {
   "cell_type": "code",
   "execution_count": 8,
   "metadata": {
    "colab": {
     "base_uri": "https://localhost:8080/",
     "height": 68
    },
    "colab_type": "code",
    "id": "fPQzku0kfoOA",
    "outputId": "3c86e368-26d1-4f06-c08e-7167273bf79f"
   },
   "outputs": [],
   "source": [
    "min_range, max_range = -1000, 1000"
   ]
  },
  {
   "cell_type": "markdown",
   "metadata": {},
   "source": [
    "The equation system is read from the file:"
   ]
  },
  {
   "cell_type": "code",
   "execution_count": 9,
   "metadata": {
    "colab": {
     "base_uri": "https://localhost:8080/",
     "height": 283
    },
    "colab_type": "code",
    "id": "qkRVgOKhhWBp",
    "outputId": "b0687b86-c132-4651-be01-2554c849fac2"
   },
   "outputs": [
    {
     "name": "stdout",
     "output_type": "stream",
     "text": [
      "n = 10\n"
     ]
    },
    {
     "data": {
      "text/html": [
       "<div>\n",
       "<style scoped>\n",
       "    .dataframe tbody tr th:only-of-type {\n",
       "        vertical-align: middle;\n",
       "    }\n",
       "\n",
       "    .dataframe tbody tr th {\n",
       "        vertical-align: top;\n",
       "    }\n",
       "\n",
       "    .dataframe thead th {\n",
       "        text-align: right;\n",
       "    }\n",
       "</style>\n",
       "<table border=\"1\" class=\"dataframe\">\n",
       "  <thead>\n",
       "    <tr style=\"text-align: right;\">\n",
       "      <th></th>\n",
       "      <th>0</th>\n",
       "      <th>1</th>\n",
       "      <th>2</th>\n",
       "      <th>3</th>\n",
       "      <th>4</th>\n",
       "      <th>5</th>\n",
       "      <th>6</th>\n",
       "      <th>7</th>\n",
       "      <th>8</th>\n",
       "      <th>9</th>\n",
       "      <th>10</th>\n",
       "    </tr>\n",
       "  </thead>\n",
       "  <tbody>\n",
       "    <tr>\n",
       "      <td>0</td>\n",
       "      <td>0.2500</td>\n",
       "      <td>0.7500</td>\n",
       "      <td>0.0050</td>\n",
       "      <td>0.8870</td>\n",
       "      <td>0.2500</td>\n",
       "      <td>0.7800</td>\n",
       "      <td>0.3920</td>\n",
       "      <td>0.0050</td>\n",
       "      <td>0.4600</td>\n",
       "      <td>0.61</td>\n",
       "      <td>35.590</td>\n",
       "    </tr>\n",
       "    <tr>\n",
       "      <td>1</td>\n",
       "      <td>0.2300</td>\n",
       "      <td>0.0700</td>\n",
       "      <td>0.3500</td>\n",
       "      <td>0.7500</td>\n",
       "      <td>0.2000</td>\n",
       "      <td>0.6800</td>\n",
       "      <td>0.8900</td>\n",
       "      <td>0.1500</td>\n",
       "      <td>0.2700</td>\n",
       "      <td>0.64</td>\n",
       "      <td>49.250</td>\n",
       "    </tr>\n",
       "    <tr>\n",
       "      <td>2</td>\n",
       "      <td>0.5828</td>\n",
       "      <td>0.2091</td>\n",
       "      <td>0.4154</td>\n",
       "      <td>0.2140</td>\n",
       "      <td>0.6833</td>\n",
       "      <td>0.4514</td>\n",
       "      <td>0.0000</td>\n",
       "      <td>0.0000</td>\n",
       "      <td>0.6085</td>\n",
       "      <td>0.72</td>\n",
       "      <td>-0.720</td>\n",
       "    </tr>\n",
       "    <tr>\n",
       "      <td>3</td>\n",
       "      <td>0.7600</td>\n",
       "      <td>0.0590</td>\n",
       "      <td>-0.7889</td>\n",
       "      <td>-0.2600</td>\n",
       "      <td>0.6900</td>\n",
       "      <td>-0.0928</td>\n",
       "      <td>0.6300</td>\n",
       "      <td>-0.7200</td>\n",
       "      <td>0.2300</td>\n",
       "      <td>-0.17</td>\n",
       "      <td>93.225</td>\n",
       "    </tr>\n",
       "    <tr>\n",
       "      <td>4</td>\n",
       "      <td>0.5155</td>\n",
       "      <td>0.0000</td>\n",
       "      <td>0.0000</td>\n",
       "      <td>0.7833</td>\n",
       "      <td>0.8744</td>\n",
       "      <td>0.3200</td>\n",
       "      <td>0.8392</td>\n",
       "      <td>0.0272</td>\n",
       "      <td>0.0164</td>\n",
       "      <td>0.00</td>\n",
       "      <td>-54.900</td>\n",
       "    </tr>\n",
       "    <tr>\n",
       "      <td>5</td>\n",
       "      <td>0.5500</td>\n",
       "      <td>0.9100</td>\n",
       "      <td>0.9900</td>\n",
       "      <td>0.6400</td>\n",
       "      <td>0.0500</td>\n",
       "      <td>0.4930</td>\n",
       "      <td>0.9300</td>\n",
       "      <td>0.5800</td>\n",
       "      <td>0.6100</td>\n",
       "      <td>0.69</td>\n",
       "      <td>223.710</td>\n",
       "    </tr>\n",
       "    <tr>\n",
       "      <td>6</td>\n",
       "      <td>0.0100</td>\n",
       "      <td>0.0060</td>\n",
       "      <td>0.7313</td>\n",
       "      <td>0.5670</td>\n",
       "      <td>0.0580</td>\n",
       "      <td>0.5130</td>\n",
       "      <td>0.8200</td>\n",
       "      <td>0.0300</td>\n",
       "      <td>0.3527</td>\n",
       "      <td>0.41</td>\n",
       "      <td>-495.600</td>\n",
       "    </tr>\n",
       "  </tbody>\n",
       "</table>\n",
       "</div>"
      ],
      "text/plain": [
       "       0       1       2       3       4       5       6       7       8   \\\n",
       "0  0.2500  0.7500  0.0050  0.8870  0.2500  0.7800  0.3920  0.0050  0.4600   \n",
       "1  0.2300  0.0700  0.3500  0.7500  0.2000  0.6800  0.8900  0.1500  0.2700   \n",
       "2  0.5828  0.2091  0.4154  0.2140  0.6833  0.4514  0.0000  0.0000  0.6085   \n",
       "3  0.7600  0.0590 -0.7889 -0.2600  0.6900 -0.0928  0.6300 -0.7200  0.2300   \n",
       "4  0.5155  0.0000  0.0000  0.7833  0.8744  0.3200  0.8392  0.0272  0.0164   \n",
       "5  0.5500  0.9100  0.9900  0.6400  0.0500  0.4930  0.9300  0.5800  0.6100   \n",
       "6  0.0100  0.0060  0.7313  0.5670  0.0580  0.5130  0.8200  0.0300  0.3527   \n",
       "\n",
       "     9        10  \n",
       "0  0.61   35.590  \n",
       "1  0.64   49.250  \n",
       "2  0.72   -0.720  \n",
       "3 -0.17   93.225  \n",
       "4  0.00  -54.900  \n",
       "5  0.69  223.710  \n",
       "6  0.41 -495.600  "
      ]
     },
     "execution_count": 9,
     "metadata": {},
     "output_type": "execute_result"
    }
   ],
   "source": [
    "equation_system = EquationSystem()\n",
    "equation_system.read_from_csv(\"new_example.csv\")"
   ]
  },
  {
   "cell_type": "markdown",
   "metadata": {},
   "source": [
    "Solve it by Hill climbing:"
   ]
  },
  {
   "cell_type": "code",
   "execution_count": 10,
   "metadata": {
    "colab": {},
    "colab_type": "code",
    "id": "4n_LzJZeiVpO"
   },
   "outputs": [],
   "source": [
    "hill_climbing = HillClimbing(equation_system, min_range, max_range, number_of_repeats=5)"
   ]
  },
  {
   "cell_type": "code",
   "execution_count": 11,
   "metadata": {
    "colab": {
     "base_uri": "https://localhost:8080/",
     "height": 238
    },
    "colab_type": "code",
    "id": "LCMGRLTriWK1",
    "outputId": "919109fb-1aab-4f3f-d743-2254558e0fa0"
   },
   "outputs": [
    {
     "name": "stdout",
     "output_type": "stream",
     "text": [
      "current level:  30472 - current MSE: 8.964689e-24 - step: 1.000000e-13\n"
     ]
    },
    {
     "data": {
      "text/plain": [
       "MSE: 2.1746354531790418e-24\n",
       "answer vector:\n",
       "[[1273.97780107]\n",
       " [-460.46353304]\n",
       " [-768.43961039]\n",
       " [ 108.37319096]\n",
       " [-831.25910819]\n",
       " [ 227.11975299]\n",
       " [-212.03743101]\n",
       " [1105.84627159]\n",
       " [ 336.16828224]\n",
       " [-124.96429727]]"
      ]
     },
     "execution_count": 11,
     "metadata": {},
     "output_type": "execute_result"
    }
   ],
   "source": [
    "hill_climbing.search()"
   ]
  },
  {
   "cell_type": "markdown",
   "metadata": {},
   "source": [
    "MSE graph by level:"
   ]
  },
  {
   "cell_type": "code",
   "execution_count": 12,
   "metadata": {
    "colab": {
     "base_uri": "https://localhost:8080/",
     "height": 863
    },
    "colab_type": "code",
    "id": "AJ7zE0_f7aPV",
    "outputId": "0edb0dec-62c4-4bad-e42b-07fe21dc79b6"
   },
   "outputs": [
    {
     "data": {
      "image/png": "[encoded data removed]",
      "text/plain": [
       "<Figure size 1080x720 with 1 Axes>"
      ]
     },
     "metadata": {
      "needs_background": "light"
     },
     "output_type": "display_data"
    }
   ],
   "source": [
    "hill_climbing.progress.plot(x='level', y='MSE', ylim=(0, 1))"
   ]
  },
  {
   "cell_type": "markdown",
   "metadata": {},
   "source": [
    "Solve it by Simulated Annealing:"
   ]
  },
  {
   "cell_type": "code",
   "execution_count": 13,
   "metadata": {
    "colab": {},
    "colab_type": "code",
    "id": "jZQujB0R3UxB"
   },
   "outputs": [],
   "source": [
    "simulated_annealing = SimulatedAnnealing(equation_system, min_range, max_range)"
   ]
  },
  {
   "cell_type": "code",
   "execution_count": 14,
   "metadata": {
    "colab": {
     "base_uri": "https://localhost:8080/",
     "height": 238
    },
    "colab_type": "code",
    "id": "jNqr2_V-rCRE",
    "outputId": "e34f63ec-e076-4443-aac1-bd17f15ead38"
   },
   "outputs": [
    {
     "name": "stdout",
     "output_type": "stream",
     "text": [
      "current level:  69044 - current MSE: 2.017857e-27 - T: 9.990082e-31 - step: 1.000000e-13\n"
     ]
    },
    {
     "data": {
      "text/plain": [
       "MSE: 9.215656223216286e-28\n",
       "answer vector:\n",
       "[[  962.46186593]\n",
       " [  224.58257976]\n",
       " [ -316.52966465]\n",
       " [ -362.45043891]\n",
       " [ -358.78457136]\n",
       " [  331.59497287]\n",
       " [  -64.51958532]\n",
       " [  466.90700277]\n",
       " [-1102.79632199]\n",
       " [  509.6873785 ]]"
      ]
     },
     "execution_count": 14,
     "metadata": {},
     "output_type": "execute_result"
    }
   ],
   "source": [
    "simulated_annealing.search()"
   ]
  },
  {
   "cell_type": "markdown",
   "metadata": {},
   "source": [
    "MSE graph by level:"
   ]
  },
  {
   "cell_type": "code",
   "execution_count": 15,
   "metadata": {
    "colab": {
     "base_uri": "https://localhost:8080/",
     "height": 1000
    },
    "colab_type": "code",
    "id": "iRT-deDeYMTW",
    "outputId": "142c1a88-96e1-47bb-a7da-d9391c91ba22",
    "scrolled": false
   },
   "outputs": [
    {
     "data": {
      "image/png": "[encoded data removed]",
      "text/plain": [
       "<Figure size 1080x720 with 1 Axes>"
      ]
     },
     "metadata": {
      "needs_background": "light"
     },
     "output_type": "display_data"
    }
   ],
   "source": [
    "simulated_annealing.progress.plot(x='level', y='MSE', ylim=(0, 1))"
   ]
  },
  {
   "cell_type": "markdown",
   "metadata": {},
   "source": [
    "$log(T)$ graph by level:"
   ]
  },
  {
   "cell_type": "code",
   "execution_count": 16,
   "metadata": {
    "colab": {},
    "colab_type": "code",
    "id": "MjnPYr20g3YN"
   },
   "outputs": [
    {
     "data": {
      "image/png": "[encoded data removed]",
      "text/plain": [
       "<Figure size 1080x720 with 1 Axes>"
      ]
     },
     "metadata": {
      "needs_background": "light"
     },
     "output_type": "display_data"
    }
   ],
   "source": [
    "simulated_annealing.progress.plot(x='level', y='log(T)')"
   ]
  },
  {
   "cell_type": "markdown",
   "metadata": {},
   "source": [
    "MSE graph by $log(T)$:"
   ]
  },
  {
   "cell_type": "code",
   "execution_count": 17,
   "metadata": {
    "colab": {},
    "colab_type": "code",
    "id": "UzJJcGfYmlmd"
   },
   "outputs": [
    {
     "data": {
      "image/png": "[encoded data removed]",
      "text/plain": [
       "<Figure size 1080x720 with 1 Axes>"
      ]
     },
     "metadata": {
      "needs_background": "light"
     },
     "output_type": "display_data"
    }
   ],
   "source": [
    "simulated_annealing.progress.plot(x='log(T)', y='MSE', invert=True, ylim=(0,1))"
   ]
  },
  {
   "cell_type": "markdown",
   "metadata": {},
   "source": [
    "The results from the Hill Climbing algorithm have an MSE in the orther of $10^{-23}$, while the results for the Simulated Annealing algorithm is in the orther of $10^{-28}$.\n",
    "\n",
    "Also, in the Hill Climbing algorithm, we have to run the algorithm several times (random restart) to get the most optimal mode possible. While the Simulated Annealing algorithm achieves its best with a single run, due to random movements.\n",
    "\n",
    "These results were not unexpected, as the Simulated Annealing algorithm is a kind of evolution of the Hill Climbing algorithm, and due to the occasional randomness, as shown in the animation below, it can escape the traps of local minimalists.\n",
    "\n",
    "![](SimulatedAnnealing.gif)"
   ]
  }
 ],
 "metadata": {
  "accelerator": "TPU",
  "colab": {
   "collapsed_sections": [],
   "name": "AI_Implementation_1",
   "provenance": []
  },
  "kernelspec": {
   "display_name": "Python 3",
   "language": "python",
   "name": "python3"
  },
  "language_info": {
   "codemirror_mode": {
    "name": "ipython",
    "version": 3
   },
   "file_extension": ".py",
   "mimetype": "text/x-python",
   "name": "python",
   "nbconvert_exporter": "python",
   "pygments_lexer": "ipython3",
   "version": "3.7.4"
  }
 },
 "nbformat": 4,
 "nbformat_minor": 1
}
