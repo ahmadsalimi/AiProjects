{
 "cells": [
  {
   "cell_type": "markdown",
   "metadata": {
    "colab_type": "text",
    "id": "uqqB47A_RlC6"
   },
   "source": [
    "## Local Search Algorithms - Hill Climbing and Simulated Annealing\n",
    "### Solving n equations with m unknowns (m > n)"
   ]
  },
  {
   "cell_type": "code",
   "execution_count": 1,
   "metadata": {
    "colab": {},
    "colab_type": "code",
    "id": "S84zj2ZofYEU"
   },
   "outputs": [],
   "source": [
    "import numpy as np\n",
    "import pandas as pd\n",
    "import matplotlib.pyplot as plt\n",
    "import sys\n",
    "from math import exp, log\n",
    "import random"
   ]
  },
  {
   "cell_type": "markdown",
   "metadata": {
    "colab_type": "text",
    "id": "A73aW1KVlnez"
   },
   "source": [
    "### `class Answer`\n",
    "Keeps a answer vector and its MSE value."
   ]
  },
  {
   "cell_type": "code",
   "execution_count": 2,
   "metadata": {
    "colab": {},
    "colab_type": "code",
    "id": "Iv5mmb-5qAfs"
   },
   "outputs": [],
   "source": [
    "class Answer:\n",
    "\n",
    "    def __init__(self, vector=None, MSE=float('inf')):\n",
    "        self.vector = vector\n",
    "        self.MSE = MSE\n",
    "    \n",
    "    def __lt__(self, other):\n",
    "        return self.MSE < other.MSE\n",
    "  \n",
    "    def __repr__(self):\n",
    "        return f'MSE: {self.MSE}\\nanswer vector:\\n{self.vector}'"
   ]
  },
  {
   "cell_type": "markdown",
   "metadata": {
    "colab_type": "text",
    "id": "6Ayl5pKil_yZ"
   },
   "source": [
    "### `class AnswerProgress`\n",
    "Responsible for keeping the status of the answer during the execution of the algorithm, and finally drawing the data as a graph."
   ]
  },
  {
   "cell_type": "code",
   "execution_count": 3,
   "metadata": {
    "colab": {},
    "colab_type": "code",
    "id": "zr2Bw-Np3ckV"
   },
   "outputs": [],
   "source": [
    "class AnswerProgress:\n",
    "\n",
    "    def __init__(self, *parameters):\n",
    "        self.data = {parameter:[] for parameter in parameters}\n",
    "  \n",
    "    def add_row(self, row):\n",
    "        for parameter in self.data:\n",
    "          self.data[parameter].append(row[parameter])\n",
    "\n",
    "    def plot(self, x, y, invert=False, ylim = None):\n",
    "        plt.close()\n",
    "        plt.figure(figsize=(15, 10))\n",
    "        if invert:\n",
    "            plt.axes().set_xlim(max(self.data[x]), min(self.data[x]))\n",
    "        \n",
    "        if ylim:\n",
    "            plt.ylim(ylim)\n",
    "        \n",
    "        plt.xlabel(x)\n",
    "        plt.ylabel(y)\n",
    "        plt.plot(self.data[x], self.data[y])\n",
    "        plt.show()"
   ]
  },
  {
   "cell_type": "markdown",
   "metadata": {
    "colab_type": "text",
    "id": "6Ayl5pKil_yZ"
   },
   "source": [
    "### `class EquationSystem`\n",
    "Keeps information of an equation system"
   ]
  },
  {
   "cell_type": "code",
   "execution_count": 4,
   "metadata": {
    "colab": {},
    "colab_type": "code",
    "id": "8G64SFeaI8Gy"
   },
   "outputs": [],
   "source": [
    "class EquationSystem:\n",
    "\n",
    "    def __init__(self):\n",
    "        self.coefficients_matrix = None\n",
    "        self.rhs_vector = None\n",
    "        self.current_answer = Answer()\n",
    "        self.best_answer = Answer()\n",
    "        self.n = 0\n",
    "  \n",
    "    def read_from_csv(self, path):\n",
    "        equation_table = pd.read_csv(path, header=None)\n",
    "\n",
    "        self.n = len(equation_table.columns) - 1\n",
    "        print(f\"n = {self.n}\")\n",
    "\n",
    "        self.coefficients_matrix = equation_table.drop([self.n], axis=1).values\n",
    "        self.rhs_vector = equation_table[[self.n]].values\n",
    "\n",
    "        return equation_table\n",
    "\n",
    "    def generate_random_answer_vector(self, min_range, max_range):\n",
    "        return np.array([np.random.uniform(min_range, max_range, self.n)]).T\n",
    "  \n",
    "    def calculate_rhs_vector(self, answer_vector):\n",
    "        return np.dot(self.coefficients_matrix, answer_vector)\n",
    "  \n",
    "    def calculate_MSE(self, answer_vector):\n",
    "        return ((self.rhs_vector - self.calculate_rhs_vector(answer_vector))**2).mean(axis=0)[0]\n",
    "  \n",
    "    def reset(self):\n",
    "        self.best_answer = Answer()\n",
    "    \n",
    "    def random_initialize(self, min_range, max_range):\n",
    "        vector = self.generate_random_answer_vector(min_range, max_range)\n",
    "        self.current_answer = Answer(vector, self.calculate_MSE(vector))\n",
    "  \n",
    "    def set_answer(self, answer):\n",
    "        self.current_answer = answer\n",
    "        self.best_answer = min(self.current_answer, self.best_answer)\n",
    "  \n",
    "    def generate_neighbour(self, index, change):\n",
    "        neighbour = np.copy(self.current_answer.vector)\n",
    "        neighbour[index][0] += change\n",
    "        return Answer(neighbour, self.calculate_MSE(neighbour))"
   ]
  },
  {
   "cell_type": "markdown",
   "metadata": {
    "colab_type": "text",
    "id": "6Ayl5pKil_yZ"
   },
   "source": [
    "### `class HillClimbing`\n",
    "This class implements the Hill Climbing algorithm for the given equation (`equation_system`), and by generating the initial state in the given range.\n",
    "\n",
    "The algorithm is executed by calling the `search` function and outputs the final answer.\n",
    "\n",
    "The implementation of the algorithm is that it first creates a random initial state. Then, as long as at least one of the neighbors in the current state has less MSE than the current state (the current state is not a local minimum), it selects the best neighbor as the next state.\n",
    "\n",
    "If it reaches a local minimum, it multiplies its `step` by the $\\beta$ and continues the algorithm as long as the `step` is larger or equal to `min_step`.\n",
    "\n",
    "Also, once the `search` function is executed, the algorithm is executed `number_of_repeats` times and returns the best answer (random restarting).\n",
    "\n",
    "Also, the optimal values of the algorithm parameters after trial and error are as follows:\n",
    "\n",
    "$$\n",
    "Step_{start} = 1000, \\space \\beta = 0.1, \\space Step_{min} = 10^{-12}\n",
    "$$\n",
    "\n",
    "This algorithm records the `level` parameter, which means stage of running algorithm, and the MSE of that stage in AnswerProgress, and after executing the algorithm, its diagram can be seen."
   ]
  },
  {
   "cell_type": "code",
   "execution_count": 5,
   "metadata": {
    "colab": {},
    "colab_type": "code",
    "id": "pRM_o5c_mr3v"
   },
   "outputs": [],
   "source": [
    "class HillClimbing:\n",
    "\n",
    "    def __init__(self, equation_system: EquationSystem, min_range, max_range, number_of_repeats=1, starting_step=1000, beta=0.1, min_step=1e-12):\n",
    "        self.equation = equation_system\n",
    "        self.starting_step = starting_step\n",
    "        self.step = starting_step\n",
    "        self.min_step = min_step\n",
    "        self.min_range = min_range\n",
    "        self.max_range = max_range\n",
    "        self.level = 0\n",
    "        self.progress = None\n",
    "        self.number_of_repeats = number_of_repeats\n",
    "        self.beta = beta\n",
    "\n",
    "    def generate_neighbours(self):\n",
    "        for index in range(self.equation.n):\n",
    "            for change in [-self.step, self.step]:\n",
    "                yield self.equation.generate_neighbour(index, change)   \n",
    "\n",
    "    def get_best_neighbour(self):\n",
    "        neighbours = list(self.generate_neighbours())\n",
    "        return min(neighbours + [self.equation.current_answer])\n",
    "\n",
    "    def print_status(self):\n",
    "        sys.stdout.write(f\"\"\"\\rcurrent level: {self.level:6d} - current MSE: {self.equation.current_answer.MSE:<10e} - step: {self.step:<10e}\"\"\")\n",
    "        sys.stdout.flush()\n",
    "    \n",
    "    def reset(self):\n",
    "        self.equation.random_initialize(self.min_range, self.max_range)\n",
    "        self.step = self.starting_step\n",
    "\n",
    "    def search(self):\n",
    "        self.progress = AnswerProgress('level', 'MSE')\n",
    "        self.equation.reset()\n",
    "        \n",
    "        for _ in range(self.number_of_repeats):\n",
    "            self.reset()\n",
    "\n",
    "            while self.step >= self.min_step:\n",
    "                best_neighbour = self.get_best_neighbour()\n",
    "\n",
    "                if best_neighbour is self.equation.current_answer:\n",
    "                    self.step *= self.beta\n",
    "                    continue\n",
    "\n",
    "                self.equation.set_soloution(best_neighbour)\n",
    "                self.progress.add_row({'level': self.level, 'MSE': self.equation.current_soloution.MSE})\n",
    "\n",
    "                if self.level % 53 == 0:\n",
    "                    self.print_status()\n",
    "                self.level += 1\n",
    "\n",
    "        self.print_status()\n",
    "        print()\n",
    "        return self.equation.best_soloution"
   ]
  },
  {
   "cell_type": "markdown",
   "metadata": {},
   "source": [
    "<div style=\"direction:rtl;line-height:300%;text-align:justify;\">\n",
    "\t<font face=\"B Zar\", size=5px>\n",
    "        کلاس\n",
    "        <code>SimulatedAnnealing</code>:\n",
    "        این کلاس الگوریتم $Simulated \\space Annealing$\n",
    "        را برای معادله داده شده\n",
    "        (<code>equation_system</code>)\n",
    "        و با تولید حالت اولیه در بازه‌ی داده‌شده اجرا می‌کند\n",
    "        <br>\n",
    "        الگوریتم با فراخوانی تابع\n",
    "        <code>search</code>\n",
    "        اجرا شده و پاسخ نهایی را خروجی می‌دهد\n",
    "        <br>\n",
    "        پارامترهای الگوریتم عبارت اند از $T$\n",
    "        به معنی دما در هرلحظه از اجرای الگوریتم، $T_{min}$\n",
    "        به معنای کمترین مقدار دمای ممکن، که پایان‌دهنده‌ی الگوریتم است، $\\alpha$\n",
    "        که ضریبیست که در هر مرحله، در دما ضرب شده و مقدار آن را کاهش می‌دهد، $Step_{start}$\n",
    "        که مقدار گام در شروع الگوریتم است و $\\beta$\n",
    "        که در هر بار برخورد به بمبست، در $Step$\n",
    "        ضرب شده و مقدار آن را کاهش می‌دهد.\n",
    "        <br>\n",
    "        نحوه‌ی اجرای الگوریتم به این صورت است که ابتدا یک حالت اولیه‌ی تصادفی تولید می‌کند.\n",
    "        سپس تا زمانی که\n",
    "        <code>t > t_min</code>\n",
    "        باشد به حالت بعد می‌رود.\n",
    "        <br>\n",
    "        نحوه‌ی تولید حالت بعد در مرحله‌ی $i$ ام\n",
    "        ($C_i$)\n",
    "        بصورت زیر است:\n",
    "        <br>\n",
    "        ابتدا تمام همسایه‌ها بُر زده می‌شوند. سپس به‌ترتیب، هنگام مشاهده‌ی همسایه‌ی $j$ ام\n",
    "        ($N_j$)،\n",
    "        اگر $MSE$\n",
    "        کمتری از حالت فعلی داشت، با احتمال ۱ آن را بعنوان حالت بعد برمی‌گرداند. در غیر این صورت، با احتمال زیر، آن همسایه را بر می‌گرداند،\n",
    "        و اگر آن را نیز برنگرداند، سراغ همسایه بعدی می‌رود.\n",
    "        <br>\n",
    "$$p = e^{\\frac{MSE(C_i) - MSE(N_j)}{T_i}}$$\n",
    "        اگر هیچکدام از همسایه‌ها برگزیده نشدند، مقدار $Step$\n",
    "        در $\\beta$\n",
    "        ضرب شده و الگوریتم از سر گرفته می‌شود.\n",
    "        <br>\n",
    "        تاثیر پارامتر $T$\n",
    "        بر الگوریتم:\n",
    "        اگر این پارامتر با شیب زیادی کاهش یابد، الگوریتم خیلی سریع به $Hill \\space Climbing$\n",
    "        تبدیل می‌شود و در دام مینیمم‌های محلی می‌افتد.\n",
    "        اگر مقدار اولیه‌ی آن بسیار بزرگ باشد، مقدار $p$\n",
    "        تا مدت زیادی نزدیک به ۱ خواهد بود و می‌تواند روی اجرای الگوریتم تاثیر منفی بگذارد.\n",
    "        <br>\n",
    "        مقادر بهینه‌ی پارامتر های الگوریتم پس از انجام آزمون و خطا، عبارت اند از:\n",
    "$$\n",
    "Step_{start} = 1000, \\space \\beta = 0.1, \\space T_0 = 1, \\space \\alpha = 0.999, \\space T_{min} = 10^{-30}\n",
    "$$\n",
    "        که در نهایت از نظر زمانی تفاوت چندانی با یک بار اجرای $Hill \\space Climbing$\n",
    "        ندارد، اما دقت آن تا $10^{-28}$\n",
    "        می‌تواند افزایش یابد.\n",
    "        <br>\n",
    "        برخلاف الگوریتم $Hill \\space Climbing$\n",
    "        که حالت نهایی الگوریتم، بهترین حالت مشاهده‌شده نیز هست، در این الگوریتم ممکن است بهترین حالت ممکن را قبل از پایان الگوریتم مشاهده کنیم.\n",
    "        درنتیجه خروجی الگوریتم، حالت پایانی نیست، بلکه بهترین حالت مشاهده‌شده در طول اجرای الگوریتم است.\n",
    "        <br>\n",
    "        این الگوریتم، پارامترهای $level$\n",
    "        به معنی مرحله‌ی اجرای الگوریتم، $MSE$\n",
    "        آن مرحله و مقدار لگاریتم دمای آن مرحله را در\n",
    "        <code>SoloutionProgress</code>\n",
    "        ثبت می‌کند و پس از اجرای الگوریتم می‌توان نمودار آن را مشاهده کرد.\n",
    "</font>\n",
    "</div>"
   ]
  },
  {
   "cell_type": "code",
   "execution_count": 15,
   "metadata": {
    "colab": {},
    "colab_type": "code",
    "id": "SiXrUelKmumI"
   },
   "outputs": [],
   "source": [
    "class SimulatedAnnealing:\n",
    "\n",
    "    def __init__(self, equation_system: EquationSystem, min_range, max_range, starting_step = 1000, beta = 0.1, t_0=1, alpha=0.999, t_min=1e-30):\n",
    "        self.equation = equation_system\n",
    "        self.step = starting_step\n",
    "        self.min_range = min_range\n",
    "        self.max_range = max_range\n",
    "        self.level = 0\n",
    "        self.t = t_0\n",
    "        self.t_min = t_min\n",
    "        self.alpha = alpha\n",
    "        self.beta = beta\n",
    "        self.neighbour_changes = None\n",
    "        self.progress = None\n",
    "  \n",
    "    def generate_all_neighbour_changes(self):\n",
    "        for index in range(self.equation.n):\n",
    "            for change in [-1, 1]:\n",
    "                yield (index, change)\n",
    "\n",
    "    def decision_probability(self, MSE):\n",
    "        return exp((self.equation.current_soloution.MSE - MSE) / self.t)\n",
    "\n",
    "    def decision(self, MSE):\n",
    "        return np.random.uniform() < self.decision_probability(MSE)\n",
    "\n",
    "    def generate_next_state(self):\n",
    "        best_neighbour = self.equation.current_soloution\n",
    "\n",
    "        random.shuffle(self.neighbour_changes)\n",
    "\n",
    "        for change in self.neighbour_changes:\n",
    "            neighbour = self.equation.generate_neighbour(change[0], change[1] * self.step)\n",
    "            best_neighbour = min(best_neighbour, neighbour)\n",
    "\n",
    "            if best_neighbour.MSE < self.equation.current_soloution.MSE:\n",
    "                return best_neighbour\n",
    "\n",
    "            if self.decision(neighbour.MSE):\n",
    "                return neighbour\n",
    "    \n",
    "        return best_neighbour\n",
    "\n",
    "    def print_status(self):\n",
    "        sys.stdout.write(f\"\\rcurrent level: {self.level:6d} - current MSE: {self.equation.current_soloution.MSE:<10e} - T: {self.t:<10e} - step: {self.step:<10e}\")\n",
    "        sys.stdout.flush()\n",
    "    \n",
    "    def reset(self):\n",
    "        self.progress = SoloutionProgress('level', 'MSE', 'log(T)')\n",
    "        self.neighbour_changes = list(self.generate_all_neighbour_changes())\n",
    "        self.equation.reset()\n",
    "        self.equation.random_initialize(self.min_range, self.max_range)\n",
    "\n",
    "    def search(self):\n",
    "        self.reset()\n",
    "\n",
    "        while self.t > self.t_min:\n",
    "            next_state = self.generate_next_state()\n",
    "            if next_state is self.equation.current_soloution:\n",
    "                self.step *= self.beta\n",
    "                continue\n",
    "            \n",
    "            self.equation.set_soloution(next_state)\n",
    "            self.progress.add_row({'level': self.level, 'MSE': self.equation.current_soloution.MSE, 'log(T)': log(self.t)})\n",
    "      \n",
    "            if self.level % 53 == 0:\n",
    "                self.print_status()\n",
    "      \n",
    "            self.level += 1\n",
    "            self.t *= self.alpha\n",
    "    \n",
    "        self.print_status()\n",
    "        print()\n",
    "        return self.equation.best_soloution"
   ]
  },
  {
   "cell_type": "markdown",
   "metadata": {},
   "source": [
    "<div style=\"direction:rtl;line-height:300%;text-align:justify;\">\n",
    "\t<font face=\"B Zar\", size=5px>\n",
    "        حال به سراغ اجرای الگوریتم‌ها می‌رویم.\n",
    "        <br>\n",
    "        ابتدا در تکه کد زیر، مقادیر پارامترهای بازه‌ی تولید حالت اولیه‌ی تصادفی را بعنوان ورودی وارد کنید.\n",
    "    </font>\n",
    "</div>"
   ]
  },
  {
   "cell_type": "code",
   "execution_count": 7,
   "metadata": {
    "colab": {
     "base_uri": "https://localhost:8080/",
     "height": 68
    },
    "colab_type": "code",
    "id": "fPQzku0kfoOA",
    "outputId": "3c86e368-26d1-4f06-c08e-7167273bf79f"
   },
   "outputs": [
    {
     "name": "stdout",
     "output_type": "stream",
     "text": [
      "enter minimum of range: -1000\n",
      "enter maximum of range: 1000\n"
     ]
    }
   ],
   "source": [
    "min_range = float(input(\"enter minimum of range: \"))\n",
    "max_range = float(input(\"enter maximum of range: \"))"
   ]
  },
  {
   "cell_type": "markdown",
   "metadata": {},
   "source": [
    "<div style=\"direction:rtl;line-height:300%;text-align:justify;\">\n",
    "\t<font face=\"B Zar\", size=5px>\n",
    "        دستگاه معادلات را از فایل می‌خوانیم:\n",
    "    </font>\n",
    "</div>"
   ]
  },
  {
   "cell_type": "code",
   "execution_count": 8,
   "metadata": {
    "colab": {
     "base_uri": "https://localhost:8080/",
     "height": 283
    },
    "colab_type": "code",
    "id": "qkRVgOKhhWBp",
    "outputId": "b0687b86-c132-4651-be01-2554c849fac2"
   },
   "outputs": [
    {
     "name": "stdout",
     "output_type": "stream",
     "text": [
      "n = 10\n"
     ]
    },
    {
     "data": {
      "text/html": [
       "<div>\n",
       "<style scoped>\n",
       "    .dataframe tbody tr th:only-of-type {\n",
       "        vertical-align: middle;\n",
       "    }\n",
       "\n",
       "    .dataframe tbody tr th {\n",
       "        vertical-align: top;\n",
       "    }\n",
       "\n",
       "    .dataframe thead th {\n",
       "        text-align: right;\n",
       "    }\n",
       "</style>\n",
       "<table border=\"1\" class=\"dataframe\">\n",
       "  <thead>\n",
       "    <tr style=\"text-align: right;\">\n",
       "      <th></th>\n",
       "      <th>0</th>\n",
       "      <th>1</th>\n",
       "      <th>2</th>\n",
       "      <th>3</th>\n",
       "      <th>4</th>\n",
       "      <th>5</th>\n",
       "      <th>6</th>\n",
       "      <th>7</th>\n",
       "      <th>8</th>\n",
       "      <th>9</th>\n",
       "      <th>10</th>\n",
       "    </tr>\n",
       "  </thead>\n",
       "  <tbody>\n",
       "    <tr>\n",
       "      <td>0</td>\n",
       "      <td>0.2500</td>\n",
       "      <td>0.7500</td>\n",
       "      <td>0.0050</td>\n",
       "      <td>0.8870</td>\n",
       "      <td>0.2500</td>\n",
       "      <td>0.7800</td>\n",
       "      <td>0.3920</td>\n",
       "      <td>0.0050</td>\n",
       "      <td>0.4600</td>\n",
       "      <td>0.61</td>\n",
       "      <td>35.590</td>\n",
       "    </tr>\n",
       "    <tr>\n",
       "      <td>1</td>\n",
       "      <td>0.2300</td>\n",
       "      <td>0.0700</td>\n",
       "      <td>0.3500</td>\n",
       "      <td>0.7500</td>\n",
       "      <td>0.2000</td>\n",
       "      <td>0.6800</td>\n",
       "      <td>0.8900</td>\n",
       "      <td>0.1500</td>\n",
       "      <td>0.2700</td>\n",
       "      <td>0.64</td>\n",
       "      <td>49.250</td>\n",
       "    </tr>\n",
       "    <tr>\n",
       "      <td>2</td>\n",
       "      <td>0.5828</td>\n",
       "      <td>0.2091</td>\n",
       "      <td>0.4154</td>\n",
       "      <td>0.2140</td>\n",
       "      <td>0.6833</td>\n",
       "      <td>0.4514</td>\n",
       "      <td>0.0000</td>\n",
       "      <td>0.0000</td>\n",
       "      <td>0.6085</td>\n",
       "      <td>0.72</td>\n",
       "      <td>-0.720</td>\n",
       "    </tr>\n",
       "    <tr>\n",
       "      <td>3</td>\n",
       "      <td>0.7600</td>\n",
       "      <td>0.0590</td>\n",
       "      <td>-0.7889</td>\n",
       "      <td>-0.2600</td>\n",
       "      <td>0.6900</td>\n",
       "      <td>-0.0928</td>\n",
       "      <td>0.6300</td>\n",
       "      <td>-0.7200</td>\n",
       "      <td>0.2300</td>\n",
       "      <td>-0.17</td>\n",
       "      <td>93.225</td>\n",
       "    </tr>\n",
       "    <tr>\n",
       "      <td>4</td>\n",
       "      <td>0.5155</td>\n",
       "      <td>0.0000</td>\n",
       "      <td>0.0000</td>\n",
       "      <td>0.7833</td>\n",
       "      <td>0.8744</td>\n",
       "      <td>0.3200</td>\n",
       "      <td>0.8392</td>\n",
       "      <td>0.0272</td>\n",
       "      <td>0.0164</td>\n",
       "      <td>0.00</td>\n",
       "      <td>-54.900</td>\n",
       "    </tr>\n",
       "    <tr>\n",
       "      <td>5</td>\n",
       "      <td>0.5500</td>\n",
       "      <td>0.9100</td>\n",
       "      <td>0.9900</td>\n",
       "      <td>0.6400</td>\n",
       "      <td>0.0500</td>\n",
       "      <td>0.4930</td>\n",
       "      <td>0.9300</td>\n",
       "      <td>0.5800</td>\n",
       "      <td>0.6100</td>\n",
       "      <td>0.69</td>\n",
       "      <td>223.710</td>\n",
       "    </tr>\n",
       "    <tr>\n",
       "      <td>6</td>\n",
       "      <td>0.0100</td>\n",
       "      <td>0.0060</td>\n",
       "      <td>0.7313</td>\n",
       "      <td>0.5670</td>\n",
       "      <td>0.0580</td>\n",
       "      <td>0.5130</td>\n",
       "      <td>0.8200</td>\n",
       "      <td>0.0300</td>\n",
       "      <td>0.3527</td>\n",
       "      <td>0.41</td>\n",
       "      <td>-495.600</td>\n",
       "    </tr>\n",
       "  </tbody>\n",
       "</table>\n",
       "</div>"
      ],
      "text/plain": [
       "       0       1       2       3       4       5       6       7       8   \\\n",
       "0  0.2500  0.7500  0.0050  0.8870  0.2500  0.7800  0.3920  0.0050  0.4600   \n",
       "1  0.2300  0.0700  0.3500  0.7500  0.2000  0.6800  0.8900  0.1500  0.2700   \n",
       "2  0.5828  0.2091  0.4154  0.2140  0.6833  0.4514  0.0000  0.0000  0.6085   \n",
       "3  0.7600  0.0590 -0.7889 -0.2600  0.6900 -0.0928  0.6300 -0.7200  0.2300   \n",
       "4  0.5155  0.0000  0.0000  0.7833  0.8744  0.3200  0.8392  0.0272  0.0164   \n",
       "5  0.5500  0.9100  0.9900  0.6400  0.0500  0.4930  0.9300  0.5800  0.6100   \n",
       "6  0.0100  0.0060  0.7313  0.5670  0.0580  0.5130  0.8200  0.0300  0.3527   \n",
       "\n",
       "     9        10  \n",
       "0  0.61   35.590  \n",
       "1  0.64   49.250  \n",
       "2  0.72   -0.720  \n",
       "3 -0.17   93.225  \n",
       "4  0.00  -54.900  \n",
       "5  0.69  223.710  \n",
       "6  0.41 -495.600  "
      ]
     },
     "execution_count": 8,
     "metadata": {},
     "output_type": "execute_result"
    }
   ],
   "source": [
    "equation_system = EquationSystem()\n",
    "equation_system.read_from_csv(\"new_example.csv\")"
   ]
  },
  {
   "cell_type": "markdown",
   "metadata": {},
   "source": [
    "<div style=\"direction:rtl;line-height:300%;text-align:justify;\">\n",
    "\t<font face=\"B Zar\", size=5px>\n",
    "        یک شیء از کلاس\n",
    "        <code>HillClimbing</code>\n",
    "        می‌سازیم و پارامتهای ورودی را به آن پاس می‌دهیم. سپس الگوریتم را اجرا می‌کنیم.\n",
    "        <br>\n",
    "        در حین اجرای الگوریتم، مقادیر $level$، $MSE$\n",
    "        و $Step$\n",
    "        حال حاضر در خروجی نمایش داده می‌شود.\n",
    "        در نهایت نیز بردار جواب چاپ می‌شود.\n",
    "    </font>\n",
    "</div>"
   ]
  },
  {
   "cell_type": "code",
   "execution_count": 9,
   "metadata": {
    "colab": {},
    "colab_type": "code",
    "id": "4n_LzJZeiVpO"
   },
   "outputs": [],
   "source": [
    "hill_climbing = HillClimbing(equation_system, min_range, max_range, number_of_repeats=5)"
   ]
  },
  {
   "cell_type": "code",
   "execution_count": 10,
   "metadata": {
    "colab": {
     "base_uri": "https://localhost:8080/",
     "height": 238
    },
    "colab_type": "code",
    "id": "LCMGRLTriWK1",
    "outputId": "919109fb-1aab-4f3f-d743-2254558e0fa0"
   },
   "outputs": [
    {
     "name": "stdout",
     "output_type": "stream",
     "text": [
      "current level:  30806 - current MSE: 3.491828e-24 - step: 1.000000e-13\n"
     ]
    },
    {
     "data": {
      "text/plain": [
       "MSE: 3.491828004715566e-24\n",
       "soloution vector:\n",
       "[[ 844.40023543]\n",
       " [-455.74352481]\n",
       " [-990.30522503]\n",
       " [-276.02117686]\n",
       " [-539.96659318]\n",
       " [ 576.96656713]\n",
       " [ -50.07958965]\n",
       " [1597.4254375 ]\n",
       " [ 738.62035344]\n",
       " [-372.26831139]]"
      ]
     },
     "execution_count": 10,
     "metadata": {},
     "output_type": "execute_result"
    }
   ],
   "source": [
    "hill_climbing.search()"
   ]
  },
  {
   "cell_type": "markdown",
   "metadata": {},
   "source": [
    "<div style=\"direction:rtl;line-height:300%;text-align:justify;\">\n",
    "\t<font face=\"B Zar\", size=5px>\n",
    "        اختلاف بردار سمت راست معادله، در حالت واقعی مسئله با حالت بدست آمده از جواب الگوریتم نمایش داده شده است.\n",
    "    </font>\n",
    "</div>"
   ]
  },
  {
   "cell_type": "code",
   "execution_count": 11,
   "metadata": {
    "colab": {
     "base_uri": "https://localhost:8080/",
     "height": 136
    },
    "colab_type": "code",
    "id": "rI9sgvV9jpLF",
    "outputId": "63b618f3-80a5-4ce1-9700-ea5aed925491"
   },
   "outputs": [
    {
     "data": {
      "text/plain": [
       "array([[ 7.88702437e-13],\n",
       "       [-3.74456022e-12],\n",
       "       [ 6.37490061e-13],\n",
       "       [-1.03739239e-12],\n",
       "       [ 1.43529633e-12],\n",
       "       [-2.84217094e-14],\n",
       "       [ 2.50111043e-12]])"
      ]
     },
     "execution_count": 11,
     "metadata": {},
     "output_type": "execute_result"
    }
   ],
   "source": [
    "equation_system.calculate_rhs_vector(equation_system.best_soloution.vector) - equation_system.rhs_vector"
   ]
  },
  {
   "cell_type": "markdown",
   "metadata": {},
   "source": [
    "<div style=\"direction:rtl;line-height:300%;text-align:justify;\">\n",
    "\t<font face=\"B Zar\", size=5px>\n",
    "        در نهایت نمودار $MSE$\n",
    "        در بازه‌ی ۰ تا ۱\n",
    "        بر حسب $level$\n",
    "        رسم شده‌است:\n",
    "    </font>\n",
    "</div>"
   ]
  },
  {
   "cell_type": "code",
   "execution_count": 12,
   "metadata": {
    "colab": {
     "base_uri": "https://localhost:8080/",
     "height": 863
    },
    "colab_type": "code",
    "id": "AJ7zE0_f7aPV",
    "outputId": "0edb0dec-62c4-4bad-e42b-07fe21dc79b6"
   },
   "outputs": [
    {
     "data": {
      "image/png": "[encoded data removed]",
      "text/plain": [
       "<Figure size 1080x720 with 1 Axes>"
      ]
     },
     "metadata": {
      "needs_background": "light"
     },
     "output_type": "display_data"
    }
   ],
   "source": [
    "hill_climbing.progress.plot(x='level', y='MSE', ylim=(0, 1))"
   ]
  },
  {
   "cell_type": "markdown",
   "metadata": {},
   "source": [
    "<div style=\"direction:rtl;line-height:300%;text-align:justify;\">\n",
    "\t<font face=\"B Zar\", size=5px>\n",
    "        یک شیء از کلاس\n",
    "        <code>SimulatedAnnealing</code>\n",
    "        می‌سازیم و پارامتهای ورودی را به آن پاس می‌دهیم. سپس الگوریتم را اجرا می‌کنیم.\n",
    "        <br>\n",
    "        در حین اجرای الگوریتم، مقادیر $level$، $MSE$،\n",
    "        دما و گام حال حاضر در خروجی نمایش داده می‌شود.\n",
    "        در نهایت نیز بردار جواب چاپ می‌شود.\n",
    "    </font>\n",
    "</div>"
   ]
  },
  {
   "cell_type": "code",
   "execution_count": 20,
   "metadata": {
    "colab": {},
    "colab_type": "code",
    "id": "jZQujB0R3UxB"
   },
   "outputs": [],
   "source": [
    "simulated_annealing = SimulatedAnnealing(equation_system, min_range, max_range)"
   ]
  },
  {
   "cell_type": "code",
   "execution_count": 21,
   "metadata": {
    "colab": {
     "base_uri": "https://localhost:8080/",
     "height": 238
    },
    "colab_type": "code",
    "id": "jNqr2_V-rCRE",
    "outputId": "e34f63ec-e076-4443-aac1-bd17f15ead38"
   },
   "outputs": [
    {
     "name": "stdout",
     "output_type": "stream",
     "text": [
      "current level:  69044 - current MSE: 6.456263e-28 - T: 9.990082e-31 - step: 1.000000e-14\n"
     ]
    },
    {
     "data": {
      "text/plain": [
       "MSE: 6.456263037158824e-28\n",
       "soloution vector:\n",
       "[[ 685.64393608]\n",
       " [ 267.10318888]\n",
       " [-416.04305094]\n",
       " [-501.80150596]\n",
       " [-174.72643091]\n",
       " [ 333.52898607]\n",
       " [  34.56011556]\n",
       " [ 643.09004515]\n",
       " [-959.25073124]\n",
       " [ 523.03458164]]"
      ]
     },
     "execution_count": 21,
     "metadata": {},
     "output_type": "execute_result"
    }
   ],
   "source": [
    "simulated_annealing.search()"
   ]
  },
  {
   "cell_type": "markdown",
   "metadata": {},
   "source": [
    "<div style=\"direction:rtl;line-height:300%;text-align:justify;\">\n",
    "\t<font face=\"B Zar\", size=5px>\n",
    "        اختلاف بردار سمت راست معادله، در حالت واقعی مسئله با حالت بدست آمده از جواب الگوریتم نمایش داده شده است.\n",
    "    </font>\n",
    "</div>"
   ]
  },
  {
   "cell_type": "code",
   "execution_count": 22,
   "metadata": {
    "colab": {
     "base_uri": "https://localhost:8080/",
     "height": 136
    },
    "colab_type": "code",
    "id": "3q5AMaGw1O8E",
    "outputId": "2df3e367-6cd4-4418-fe95-8e007bd6f397"
   },
   "outputs": [
    {
     "data": {
      "text/plain": [
       "array([[ 2.13162821e-14],\n",
       "       [-2.13162821e-14],\n",
       "       [ 1.33226763e-14],\n",
       "       [ 1.42108547e-14],\n",
       "       [ 0.00000000e+00],\n",
       "       [ 0.00000000e+00],\n",
       "       [ 5.68434189e-14]])"
      ]
     },
     "execution_count": 22,
     "metadata": {},
     "output_type": "execute_result"
    }
   ],
   "source": [
    "equation_system.calculate_rhs_vector(equation_system.best_soloution.vector) - equation_system.rhs_vector"
   ]
  },
  {
   "cell_type": "markdown",
   "metadata": {},
   "source": [
    "<div style=\"direction:rtl;line-height:300%;text-align:justify;\">\n",
    "\t<font face=\"B Zar\", size=5px>\n",
    "        در نهایت نمودار پارامترهای الگوریتم در طول اجرا رسم شده است.\n",
    "        <br>\n",
    "        نمودار $MSE$\n",
    "        در بازه‌ی ۰ تا ۱\n",
    "        برحسب $level$:\n",
    "    </font>\n",
    "</div>"
   ]
  },
  {
   "cell_type": "code",
   "execution_count": 23,
   "metadata": {
    "colab": {
     "base_uri": "https://localhost:8080/",
     "height": 1000
    },
    "colab_type": "code",
    "id": "iRT-deDeYMTW",
    "outputId": "142c1a88-96e1-47bb-a7da-d9391c91ba22",
    "scrolled": false
   },
   "outputs": [
    {
     "data": {
      "image/png": "[encoded data removed]",
      "text/plain": [
       "<Figure size 1080x720 with 1 Axes>"
      ]
     },
     "metadata": {
      "needs_background": "light"
     },
     "output_type": "display_data"
    }
   ],
   "source": [
    "simulated_annealing.progress.plot(x='level', y='MSE', ylim=(0, 1))"
   ]
  },
  {
   "cell_type": "markdown",
   "metadata": {},
   "source": [
    "<div style=\"direction:rtl;line-height:300%;text-align:justify;\">\n",
    "\t<font face=\"B Zar\", size=5px>\n",
    "        نمودار $log(T)$\n",
    "        برحسب $level$\n",
    "    </font>\n",
    "</div>"
   ]
  },
  {
   "cell_type": "code",
   "execution_count": 24,
   "metadata": {
    "colab": {},
    "colab_type": "code",
    "id": "MjnPYr20g3YN"
   },
   "outputs": [
    {
     "data": {
      "image/png": "[encoded data removed]",
      "text/plain": [
       "<Figure size 1080x720 with 1 Axes>"
      ]
     },
     "metadata": {
      "needs_background": "light"
     },
     "output_type": "display_data"
    }
   ],
   "source": [
    "simulated_annealing.progress.plot(x='level', y='log(T)')"
   ]
  },
  {
   "cell_type": "markdown",
   "metadata": {},
   "source": [
    "<div style=\"direction:rtl;line-height:300%;text-align:justify;\">\n",
    "\t<font face=\"B Zar\", size=5px>\n",
    "        نمودار $MSE$\n",
    "        در بازه‌ی ۰ تا ۱\n",
    "        برحسب $log(T)$\n",
    "    </font>\n",
    "</div>"
   ]
  },
  {
   "cell_type": "code",
   "execution_count": 25,
   "metadata": {
    "colab": {},
    "colab_type": "code",
    "id": "UzJJcGfYmlmd"
   },
   "outputs": [
    {
     "data": {
      "image/png": "[encoded data removed]",
      "text/plain": [
       "<Figure size 1080x720 with 1 Axes>"
      ]
     },
     "metadata": {
      "needs_background": "light"
     },
     "output_type": "display_data"
    }
   ],
   "source": [
    "simulated_annealing.progress.plot(x='log(T)', y='MSE', invert=True, ylim=(0,1))"
   ]
  },
  {
   "cell_type": "markdown",
   "metadata": {
    "colab": {},
    "colab_type": "code",
    "id": "oChu6yQX8prX"
   },
   "source": [
    "<div style=\"direction:rtl;line-height:300%;text-align:justify;\">\n",
    "\t<font face=\"B Zar\", size=5px>\n",
    "        همانطور که مشاهده شد، نتایج حاصل از اجرای الگوریتم $Hill \\space Climbing$\n",
    "        دارای $MSE$\n",
    "        از مرتبه‌ی $10^{-23}$\n",
    "        هستند، درحالی‌که این نتایج برای الگوریتم $Simulated \\space Annealing$\n",
    "        از مرتبه‌ی $10^{-28}$\n",
    "        هستند.\n",
    "        <br>\n",
    "        همچنین در الگوریتم $Hill \\space Climbing$\n",
    "        باید چند بار الگوریتم را اجرا کنیم تا بهینه ترین حالت ممکن بدست آید. در حالی که الگوریتم $Simulated \\space Annealing$\n",
    "        با یک بار اجرا، به دلیل حرکت‌های تصادفی، به بهترین حالت خود می‌رسد.\n",
    "        <br>\n",
    "        این نتایح دور ازانتظار نیز نبوده‌اند، چرا که الگوریتم $Simulated \\space Annealing$\n",
    "        به نوعی تکامل‌یافته‌ی الگوریتم $Hill \\space Climbing$\n",
    "        است و به علت عملکرد گاهاً تصادفی، همانطور که انیمیشن زیر مشخص می‌کند، می‌تواند از دام مینیمم های محلی بگریزد.\n",
    "        <img src=\"SimulatedAnnealing.gif\">\n",
    "    </font>\n",
    "</div>"
   ]
  }
 ],
 "metadata": {
  "accelerator": "TPU",
  "colab": {
   "collapsed_sections": [],
   "name": "AI_Implementation_1",
   "provenance": []
  },
  "kernelspec": {
   "display_name": "Python 3",
   "language": "python",
   "name": "python3"
  },
  "language_info": {
   "codemirror_mode": {
    "name": "ipython",
    "version": 3
   },
   "file_extension": ".py",
   "mimetype": "text/x-python",
   "name": "python",
   "nbconvert_exporter": "python",
   "pygments_lexer": "ipython3",
   "version": "3.7.4"
  }
 },
 "nbformat": 4,
 "nbformat_minor": 1
}
